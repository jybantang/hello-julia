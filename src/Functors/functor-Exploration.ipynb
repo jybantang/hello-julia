{
 "cells": [
  {
   "cell_type": "code",
   "execution_count": 1,
   "id": "cdf6a4ac",
   "metadata": {},
   "outputs": [
    {
     "name": "stderr",
     "output_type": "stream",
     "text": [
      "\u001b[32m\u001b[1m  Activating\u001b[22m\u001b[39m environment at `~/Documents/GitHub/hello-julia/src/Functors/Project.toml`\n",
      "\u001b[32m\u001b[1m    Updating\u001b[22m\u001b[39m registry at `~/.julia/registries/General`\n",
      "\u001b[32m\u001b[1m   Resolving\u001b[22m\u001b[39m package versions...\n",
      "\u001b[32m\u001b[1m  No Changes\u001b[22m\u001b[39m to `~/Documents/GitHub/hello-julia/src/Functors/Project.toml`\n",
      "\u001b[32m\u001b[1m  No Changes\u001b[22m\u001b[39m to `~/Documents/GitHub/hello-julia/src/Functors/Manifest.toml`\n"
     ]
    },
    {
     "name": "stdout",
     "output_type": "stream",
     "text": [
      "\u001b[32m\u001b[1m      Status\u001b[22m\u001b[39m `~/Documents/GitHub/hello-julia/src/Functors/Project.toml`\n",
      " \u001b[90m [6e4b80f9] \u001b[39mBenchmarkTools v1.2.0\n"
     ]
    }
   ],
   "source": [
    "using Pkg;\n",
    "Pkg.activate(\".\")\n",
    "Pkg.add(\"BenchmarkTools\")\n",
    "Pkg.status()\n",
    "\n",
    "using BenchmarkTools;"
   ]
  },
  {
   "cell_type": "markdown",
   "id": "b4859adb",
   "metadata": {},
   "source": [
    "# Exploring functors\n",
    "\n",
    "Idea came from the `Polynomial` `struct` in the [MIT website]()."
   ]
  },
  {
   "cell_type": "code",
   "execution_count": 2,
   "id": "949273f6",
   "metadata": {},
   "outputs": [],
   "source": [
    "struct Polynomial{R}\n",
    "    coeffs::Vector{R}\n",
    "end\n",
    "\n",
    "function (p::Polynomial)(x)\n",
    "    v = p.coeffs[end]\n",
    "    for i = (length(p.coeffs)-1):-1:1\n",
    "        v = v*x + p.coeffs[i]\n",
    "    end\n",
    "    return v\n",
    "end\n",
    "\n",
    "(p::Polynomial)() = p(0) #default polynomial value"
   ]
  },
  {
   "cell_type": "code",
   "execution_count": 3,
   "id": "74347a6f",
   "metadata": {},
   "outputs": [
    {
     "data": {
      "text/plain": [
       "Polynomial{Int64}([1, 2, 1])"
      ]
     },
     "execution_count": 3,
     "metadata": {},
     "output_type": "execute_result"
    }
   ],
   "source": [
    "p = Polynomial([1,2,1])"
   ]
  },
  {
   "cell_type": "code",
   "execution_count": 4,
   "id": "dcc9e1a8",
   "metadata": {},
   "outputs": [
    {
     "data": {
      "text/plain": [
       "25"
      ]
     },
     "execution_count": 4,
     "metadata": {},
     "output_type": "execute_result"
    }
   ],
   "source": [
    "p(4)"
   ]
  },
  {
   "cell_type": "code",
   "execution_count": 5,
   "id": "1e074d9f",
   "metadata": {},
   "outputs": [
    {
     "data": {
      "text/plain": [
       "Polynomial{Float64}([0.05457974939845678, 0.055655068901082405, 0.35287705813802894, 0.8616331244167144])"
      ]
     },
     "execution_count": 5,
     "metadata": {},
     "output_type": "execute_result"
    }
   ],
   "source": [
    "rp = Polynomial(rand(4))"
   ]
  },
  {
   "cell_type": "code",
   "execution_count": 6,
   "id": "452a841f",
   "metadata": {},
   "outputs": [
    {
     "data": {
      "text/plain": [
       "1"
      ]
     },
     "execution_count": 6,
     "metadata": {},
     "output_type": "execute_result"
    }
   ],
   "source": [
    "p() #uses the default Polynomial functor."
   ]
  },
  {
   "cell_type": "code",
   "execution_count": 7,
   "id": "70c015e1",
   "metadata": {},
   "outputs": [
    {
     "data": {
      "text/plain": [
       "2"
      ]
     },
     "execution_count": 7,
     "metadata": {},
     "output_type": "execute_result"
    }
   ],
   "source": [
    "p.coeffs[1] = 2"
   ]
  },
  {
   "cell_type": "code",
   "execution_count": 8,
   "id": "6b7d9f26",
   "metadata": {},
   "outputs": [
    {
     "data": {
      "text/plain": [
       "3-element Vector{Int64}:\n",
       " 2\n",
       " 2\n",
       " 1"
      ]
     },
     "execution_count": 8,
     "metadata": {},
     "output_type": "execute_result"
    }
   ],
   "source": [
    "p.coeffs"
   ]
  },
  {
   "cell_type": "markdown",
   "id": "3d275ff4",
   "metadata": {},
   "source": [
    "# Functor as simple integrator\n",
    "\n",
    "We can utilize functor construction to provide us a way to generate a kind of object-oriented version of the integrator.\n",
    "Let's try the RK4 version [^1].\n",
    "\n",
    "Later on we can move to a generalized integrator via the Butcher's Tableu.\n",
    "\n",
    "---\n",
    "This is under the `<hline>`.\n",
    "\n",
    "[^1]: We shall implement a simple RK4 version here.\n",
    "\n",
    "---\n",
    "``\\LaTeX`` equations can be a code within the code.\n",
    "``E = mc^2``"
   ]
  },
  {
   "cell_type": "code",
   "execution_count": 9,
   "id": "2962d0d6",
   "metadata": {},
   "outputs": [
    {
     "data": {
      "text/plain": [
       "Integrator{Float64}([0.0], [0.0])"
      ]
     },
     "execution_count": 9,
     "metadata": {},
     "output_type": "execute_result"
    }
   ],
   "source": [
    "struct Integrator{T}\n",
    "    K::Vector{T}\n",
    "    dt::Vector{T}\n",
    "end\n",
    "\n",
    "RK4Integrator = Integrator([0.0,0.0,0.0],[0.0])\n",
    "EulerStep = Integrator([0.0],[0.0])"
   ]
  },
  {
   "cell_type": "code",
   "execution_count": 10,
   "id": "02508e0b",
   "metadata": {},
   "outputs": [
    {
     "data": {
      "text/plain": [
       "Integrator"
      ]
     },
     "execution_count": 10,
     "metadata": {},
     "output_type": "execute_result"
    }
   ],
   "source": [
    "\"\"\"\n",
    "\n",
    "```\n",
    "f :: f(u,t,p)\n",
    "```\n",
    "\"\"\"\n",
    "function (quad::Integrator)(f::Function, u0, tspan::Tuple{Real,Real}, p::Vector; steps=1)\n",
    "    quad.dt[1] = (tspan[2] - tspan[1]) / steps;\n",
    "    result = u0;\n",
    "    quad.K[1] = quad.dt[1] * f(u0, tspan[1], p[:]);\n",
    "    return result + quad.K[1];\n",
    "end"
   ]
  },
  {
   "cell_type": "code",
   "execution_count": 11,
   "id": "f7622c25",
   "metadata": {},
   "outputs": [
    {
     "data": {
      "text/plain": [
       "Integrator{Float64}([0.0], [0.1])"
      ]
     },
     "execution_count": 11,
     "metadata": {},
     "output_type": "execute_result"
    }
   ],
   "source": [
    "euler = Integrator([0.0],[0.1])"
   ]
  },
  {
   "cell_type": "code",
   "execution_count": 12,
   "id": "e856fefd",
   "metadata": {},
   "outputs": [
    {
     "data": {
      "text/plain": [
       "1-element Vector{Float64}:\n",
       " 0.1"
      ]
     },
     "execution_count": 12,
     "metadata": {},
     "output_type": "execute_result"
    }
   ],
   "source": [
    "euler.dt"
   ]
  },
  {
   "cell_type": "code",
   "execution_count": 13,
   "id": "5ee0edea",
   "metadata": {},
   "outputs": [
    {
     "data": {
      "text/plain": [
       "f (generic function with 1 method)"
      ]
     },
     "execution_count": 13,
     "metadata": {},
     "output_type": "execute_result"
    }
   ],
   "source": [
    "f(u,t,p) = p[1] * u + p[2] * t"
   ]
  },
  {
   "cell_type": "code",
   "execution_count": 14,
   "id": "778751cc",
   "metadata": {},
   "outputs": [
    {
     "data": {
      "text/plain": [
       "0.9"
      ]
     },
     "execution_count": 14,
     "metadata": {},
     "output_type": "execute_result"
    }
   ],
   "source": [
    "euler(f, 1.0, (0.0,0.1), [-1.0,0.0])"
   ]
  },
  {
   "cell_type": "code",
   "execution_count": 15,
   "id": "fe335a51",
   "metadata": {},
   "outputs": [
    {
     "data": {
      "text/plain": [
       "euler_step (generic function with 1 method)"
      ]
     },
     "execution_count": 15,
     "metadata": {},
     "output_type": "execute_result"
    }
   ],
   "source": [
    "function euler_step(f::Function, u0, tspan::Tuple{Real,Real}, p::Vector; steps=1)\n",
    "    dt = (tspan[2] - tspan[1]) / steps;\n",
    "    result = u0;\n",
    "    K1 = dt * f(u0, tspan[1], p[:]);\n",
    "    return result + K1;\n",
    "end"
   ]
  },
  {
   "cell_type": "code",
   "execution_count": 16,
   "id": "6e8ff603",
   "metadata": {},
   "outputs": [
    {
     "data": {
      "text/plain": [
       "0.9"
      ]
     },
     "execution_count": 16,
     "metadata": {},
     "output_type": "execute_result"
    }
   ],
   "source": [
    "euler_step(f, 1.0, (0.0,0.1), [-1.0,0.0])"
   ]
  },
  {
   "cell_type": "code",
   "execution_count": 17,
   "id": "ffce9db5",
   "metadata": {},
   "outputs": [
    {
     "data": {
      "text/plain": [
       "BenchmarkTools.Trial: 667 samples with 1 evaluation.\n",
       " Range \u001b[90m(\u001b[39m\u001b[36m\u001b[1mmin\u001b[22m\u001b[39m … \u001b[35mmax\u001b[39m\u001b[90m):  \u001b[39m\u001b[36m\u001b[1m5.773 ms\u001b[22m\u001b[39m … \u001b[35m10.469 ms\u001b[39m  \u001b[90m┊\u001b[39m GC \u001b[90m(\u001b[39mmin … max\u001b[90m): \u001b[39m 0.00% … 20.34%\n",
       " Time  \u001b[90m(\u001b[39m\u001b[34m\u001b[1mmedian\u001b[22m\u001b[39m\u001b[90m):     \u001b[39m\u001b[34m\u001b[1m7.165 ms              \u001b[22m\u001b[39m\u001b[90m┊\u001b[39m GC \u001b[90m(\u001b[39mmedian\u001b[90m):    \u001b[39m 0.00%\n",
       " Time  \u001b[90m(\u001b[39m\u001b[32m\u001b[1mmean\u001b[22m\u001b[39m ± \u001b[32mσ\u001b[39m\u001b[90m):   \u001b[39m\u001b[32m\u001b[1m7.491 ms\u001b[22m\u001b[39m ± \u001b[32m 1.052 ms\u001b[39m  \u001b[90m┊\u001b[39m GC \u001b[90m(\u001b[39mmean ± σ\u001b[90m):  \u001b[39m10.27% ± 10.62%\n",
       "\n",
       "  \u001b[39m \u001b[39m \u001b[39m \u001b[39m \u001b[39m▂\u001b[39m▂\u001b[39m▂\u001b[39m \u001b[39m \u001b[39m \u001b[39m▃\u001b[39m▂\u001b[39m \u001b[39m▁\u001b[39m▂\u001b[39m▁\u001b[39m█\u001b[39m▃\u001b[39m▃\u001b[39m▃\u001b[34m▃\u001b[39m\u001b[39m \u001b[39m \u001b[39m \u001b[39m \u001b[32m \u001b[39m\u001b[39m \u001b[39m \u001b[39m \u001b[39m \u001b[39m \u001b[39m▁\u001b[39m \u001b[39m \u001b[39m \u001b[39m \u001b[39m \u001b[39m \u001b[39m \u001b[39m \u001b[39m \u001b[39m▁\u001b[39m \u001b[39m \u001b[39m▁\u001b[39m \u001b[39m \u001b[39m \u001b[39m▁\u001b[39m \u001b[39m \u001b[39m \u001b[39m \u001b[39m \u001b[39m \u001b[39m \u001b[39m \u001b[39m \u001b[39m \u001b[39m \n",
       "  \u001b[39m▄\u001b[39m▄\u001b[39m▄\u001b[39m█\u001b[39m█\u001b[39m█\u001b[39m█\u001b[39m█\u001b[39m█\u001b[39m▆\u001b[39m█\u001b[39m█\u001b[39m▇\u001b[39m█\u001b[39m█\u001b[39m█\u001b[39m█\u001b[39m█\u001b[39m█\u001b[39m█\u001b[34m█\u001b[39m\u001b[39m█\u001b[39m▆\u001b[39m▄\u001b[39m▃\u001b[32m▃\u001b[39m\u001b[39m▃\u001b[39m▅\u001b[39m▄\u001b[39m▄\u001b[39m▃\u001b[39m█\u001b[39m█\u001b[39m▆\u001b[39m▆\u001b[39m█\u001b[39m▇\u001b[39m▆\u001b[39m█\u001b[39m▅\u001b[39m█\u001b[39m█\u001b[39m▇\u001b[39m▅\u001b[39m█\u001b[39m█\u001b[39m█\u001b[39m█\u001b[39m█\u001b[39m▆\u001b[39m▅\u001b[39m▂\u001b[39m▄\u001b[39m▃\u001b[39m▂\u001b[39m▃\u001b[39m▁\u001b[39m▃\u001b[39m \u001b[39m▅\n",
       "  5.77 ms\u001b[90m        Histogram: frequency by time\u001b[39m        9.71 ms \u001b[0m\u001b[1m<\u001b[22m\n",
       "\n",
       " Memory estimate\u001b[90m: \u001b[39m\u001b[33m18.31 MiB\u001b[39m, allocs estimate\u001b[90m: \u001b[39m\u001b[33m200000\u001b[39m."
      ]
     },
     "execution_count": 17,
     "metadata": {},
     "output_type": "execute_result"
    }
   ],
   "source": [
    "bmark_es = @benchmark for _ in 1:100_000 euler_step(f, 1.0, (0.0,0.1), [-1.0,0.0]) end"
   ]
  },
  {
   "cell_type": "code",
   "execution_count": 18,
   "id": "c9de6ecc",
   "metadata": {},
   "outputs": [
    {
     "data": {
      "text/plain": [
       "BenchmarkTools.Trial: 215 samples with 1 evaluation.\n",
       " Range \u001b[90m(\u001b[39m\u001b[36m\u001b[1mmin\u001b[22m\u001b[39m … \u001b[35mmax\u001b[39m\u001b[90m):  \u001b[39m\u001b[36m\u001b[1m18.429 ms\u001b[22m\u001b[39m … \u001b[35m29.035 ms\u001b[39m  \u001b[90m┊\u001b[39m GC \u001b[90m(\u001b[39mmin … max\u001b[90m): \u001b[39m 0.00% … 13.72%\n",
       " Time  \u001b[90m(\u001b[39m\u001b[34m\u001b[1mmedian\u001b[22m\u001b[39m\u001b[90m):     \u001b[39m\u001b[34m\u001b[1m23.355 ms              \u001b[22m\u001b[39m\u001b[90m┊\u001b[39m GC \u001b[90m(\u001b[39mmedian\u001b[90m):    \u001b[39m14.96%\n",
       " Time  \u001b[90m(\u001b[39m\u001b[32m\u001b[1mmean\u001b[22m\u001b[39m ± \u001b[32mσ\u001b[39m\u001b[90m):   \u001b[39m\u001b[32m\u001b[1m23.271 ms\u001b[22m\u001b[39m ± \u001b[32m 2.298 ms\u001b[39m  \u001b[90m┊\u001b[39m GC \u001b[90m(\u001b[39mmean ± σ\u001b[90m):  \u001b[39m10.40% ±  7.15%\n",
       "\n",
       "  \u001b[39m \u001b[39m \u001b[39m \u001b[39m \u001b[39m \u001b[39m \u001b[39m \u001b[39m \u001b[39m \u001b[39m \u001b[39m \u001b[39m \u001b[39m \u001b[39m \u001b[39m \u001b[39m \u001b[39m \u001b[39m \u001b[39m \u001b[39m \u001b[39m \u001b[39m \u001b[39m \u001b[39m \u001b[39m \u001b[39m \u001b[39m \u001b[39m \u001b[39m▂\u001b[39m▆\u001b[39m▃\u001b[39m \u001b[34m█\u001b[39m\u001b[39m \u001b[39m▃\u001b[39m \u001b[39m \u001b[39m \u001b[39m \u001b[39m \u001b[39m \u001b[39m \u001b[39m \u001b[39m \u001b[39m \u001b[39m \u001b[39m \u001b[39m \u001b[39m \u001b[39m \u001b[39m \u001b[39m \u001b[39m \u001b[39m \u001b[39m \u001b[39m \u001b[39m \u001b[39m \u001b[39m \u001b[39m \u001b[39m \n",
       "  \u001b[39m▃\u001b[39m▁\u001b[39m▅\u001b[39m▁\u001b[39m▆\u001b[39m▅\u001b[39m▇\u001b[39m▅\u001b[39m▄\u001b[39m▅\u001b[39m▅\u001b[39m▇\u001b[39m▃\u001b[39m▄\u001b[39m▅\u001b[39m█\u001b[39m▁\u001b[39m▅\u001b[39m▁\u001b[39m▅\u001b[39m▄\u001b[39m▄\u001b[39m▃\u001b[39m▄\u001b[39m▇\u001b[39m▇\u001b[39m▆\u001b[39m▅\u001b[39m█\u001b[39m█\u001b[39m█\u001b[39m▇\u001b[34m█\u001b[39m\u001b[39m▅\u001b[39m█\u001b[39m▄\u001b[39m▆\u001b[39m▇\u001b[39m█\u001b[39m▇\u001b[39m▅\u001b[39m▇\u001b[39m▄\u001b[39m▇\u001b[39m█\u001b[39m▄\u001b[39m▇\u001b[39m▃\u001b[39m▇\u001b[39m▆\u001b[39m▅\u001b[39m▃\u001b[39m▄\u001b[39m▅\u001b[39m▄\u001b[39m▇\u001b[39m▆\u001b[39m▄\u001b[39m▄\u001b[39m \u001b[39m▄\n",
       "  18.4 ms\u001b[90m         Histogram: frequency by time\u001b[39m        27.4 ms \u001b[0m\u001b[1m<\u001b[22m\n",
       "\n",
       " Memory estimate\u001b[90m: \u001b[39m\u001b[33m28.99 MiB\u001b[39m, allocs estimate\u001b[90m: \u001b[39m\u001b[33m700000\u001b[39m."
      ]
     },
     "execution_count": 18,
     "metadata": {},
     "output_type": "execute_result"
    }
   ],
   "source": [
    "bmark_e0 = @benchmark for _ in 1:100_000 euler(f, 1.0, (0.0,0.1), [-1.0,0.0]) end"
   ]
  },
  {
   "cell_type": "code",
   "execution_count": 19,
   "id": "42daa387",
   "metadata": {},
   "outputs": [
    {
     "data": {
      "text/plain": [
       "3.2594749269173366"
      ]
     },
     "execution_count": 19,
     "metadata": {},
     "output_type": "execute_result"
    }
   ],
   "source": [
    "median(bmark_e0.times) / median(bmark_es.times)"
   ]
  },
  {
   "cell_type": "code",
   "execution_count": 20,
   "id": "64329d1d",
   "metadata": {},
   "outputs": [
    {
     "data": {
      "text/plain": [
       "1.5833333333333333"
      ]
     },
     "execution_count": 20,
     "metadata": {},
     "output_type": "execute_result"
    }
   ],
   "source": [
    "bmark_e0.memory / bmark_es.memory"
   ]
  },
  {
   "cell_type": "markdown",
   "id": "c72c6891",
   "metadata": {},
   "source": [
    "# CONCLUSION\n",
    "\n",
    "!!! warning \"Important notes\"\n",
    "\n",
    " 1. It is still best to use function as much as possible rather than functors.\n",
    " 2. The function implementation --at least for Euler step-- is much faster and more efficient.\n",
    "    - faster by at least 3 times\n",
    "    - memory efficient by at least 1.5 times"
   ]
  },
  {
   "cell_type": "code",
   "execution_count": null,
   "id": "5c011987",
   "metadata": {},
   "outputs": [],
   "source": []
  },
  {
   "cell_type": "code",
   "execution_count": null,
   "id": "e6a96dbe",
   "metadata": {},
   "outputs": [],
   "source": []
  }
 ],
 "metadata": {
  "kernelspec": {
   "display_name": "Julia 1.6.1",
   "language": "julia",
   "name": "julia-1.6"
  },
  "language_info": {
   "file_extension": ".jl",
   "mimetype": "application/julia",
   "name": "julia",
   "version": "1.6.3"
  }
 },
 "nbformat": 4,
 "nbformat_minor": 5
}
