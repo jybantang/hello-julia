{
 "cells": [
  {
   "cell_type": "markdown",
   "id": "2ac5446b",
   "metadata": {},
   "source": [
    "# Determinants\n",
    "\n",
    "There's a `det()` function within the module `LinearAlgebra`.\n",
    "Let's compare the speeds of this determinant function with respect to the identity using the cross product `×()` and dot product `⋅()` operators within the same module.\n",
    "\n",
    "We will exploit the following identity.\n",
    "```\n",
    "det([a,b,c]) = a × b ⋅ c\n",
    "```\n",
    "and in comparing their `@benchmark`s."
   ]
  },
  {
   "cell_type": "code",
   "execution_count": 1,
   "id": "12a4f2ae",
   "metadata": {},
   "outputs": [
    {
     "name": "stderr",
     "output_type": "stream",
     "text": [
      "\u001b[32m\u001b[1m  Activating\u001b[22m\u001b[39m environment at `~/Documents/GitHub/hello-julia/src/Matrices/Project.toml`\n",
      "\u001b[32m\u001b[1m    Updating\u001b[22m\u001b[39m registry at `~/.julia/registries/General`\n",
      "\u001b[32m\u001b[1m   Resolving\u001b[22m\u001b[39m package versions...\n",
      "\u001b[32m\u001b[1m  No Changes\u001b[22m\u001b[39m to `~/Documents/GitHub/hello-julia/src/Matrices/Project.toml`\n",
      "\u001b[32m\u001b[1m  No Changes\u001b[22m\u001b[39m to `~/Documents/GitHub/hello-julia/src/Matrices/Manifest.toml`\n",
      "\u001b[32m\u001b[1m   Resolving\u001b[22m\u001b[39m package versions...\n",
      "\u001b[32m\u001b[1m  No Changes\u001b[22m\u001b[39m to `~/Documents/GitHub/hello-julia/src/Matrices/Project.toml`\n",
      "\u001b[32m\u001b[1m  No Changes\u001b[22m\u001b[39m to `~/Documents/GitHub/hello-julia/src/Matrices/Manifest.toml`\n",
      "\u001b[32m\u001b[1m    Updating\u001b[22m\u001b[39m registry at `~/.julia/registries/General`\n",
      "\u001b[32m\u001b[1m  No Changes\u001b[22m\u001b[39m to `~/Documents/GitHub/hello-julia/src/Matrices/Project.toml`\n",
      "\u001b[32m\u001b[1m  No Changes\u001b[22m\u001b[39m to `~/Documents/GitHub/hello-julia/src/Matrices/Manifest.toml`\n"
     ]
    },
    {
     "name": "stdout",
     "output_type": "stream",
     "text": [
      "\u001b[32m\u001b[1m      Status\u001b[22m\u001b[39m `~/Documents/GitHub/hello-julia/src/Matrices/Project.toml`\n",
      " \u001b[90m [6e4b80f9] \u001b[39mBenchmarkTools v1.2.0\n",
      " \u001b[90m [37e2e46d] \u001b[39mLinearAlgebra\n"
     ]
    }
   ],
   "source": [
    "using Pkg;\n",
    "Pkg.activate(\".\")\n",
    "Pkg.add(\"LinearAlgebra\")\n",
    "Pkg.add(\"BenchmarkTools\")\n",
    "Pkg.update()\n",
    "Pkg.status()"
   ]
  },
  {
   "cell_type": "code",
   "execution_count": 2,
   "id": "7d834983",
   "metadata": {},
   "outputs": [],
   "source": [
    "using LinearAlgebra\n",
    "using BenchmarkTools"
   ]
  },
  {
   "cell_type": "code",
   "execution_count": 3,
   "id": "f83770c9",
   "metadata": {},
   "outputs": [
    {
     "name": "stdout",
     "output_type": "stream",
     "text": [
      "true : a′ is equal to a.\n",
      "true : a′ is also identical to a.\n",
      "a[2]=0.11435700389430381, a′[2]=0.11435700389430381.\n",
      "  setting new random values for a′[2]...\n",
      "a[2]=0.9748342965033607, a′[2]=0.9748342965033607.\n"
     ]
    }
   ],
   "source": [
    "a = rand(3);\n",
    "b = rand(3);\n",
    "c = rand(3);\n",
    "\n",
    "a′ = a;\n",
    "\n",
    "A = [a b c];\n",
    "\n",
    "println(\"$(a==a′) : a′ is equal to a.\")\n",
    "println(\"$(a===a′) : a′ is $((a===a′) ? \"also \" : \"\")identical to a.\")\n",
    "\n",
    "println(\"a[2]=$(a[2]), a′[2]=$(a′[2]).\")\n",
    "println(\"  setting new random values for a′[2]...\")\n",
    "a′[2] = rand(); #new value\n",
    "println(\"a[2]=$(a[2]), a′[2]=$(a′[2]).\")"
   ]
  },
  {
   "cell_type": "code",
   "execution_count": 4,
   "id": "a9379f67",
   "metadata": {},
   "outputs": [
    {
     "name": "stdout",
     "output_type": "stream",
     "text": [
      "true : A[:,1] is equal to a.\n",
      "false : A[:,1] is identical to a.\n"
     ]
    }
   ],
   "source": [
    "A = [a b c];\n",
    "println(\"$(A[:,1] == a) : A[:,1] is equal to a.\")\n",
    "println(\"$(A[:,1] === a) : A[:,1] is $((A[:,1] === a) ? \"also \" : \"\")identical to a.\")"
   ]
  },
  {
   "cell_type": "code",
   "execution_count": 5,
   "id": "69edad5e",
   "metadata": {},
   "outputs": [
    {
     "data": {
      "text/plain": [
       "triple_det (generic function with 1 method)"
      ]
     },
     "execution_count": 5,
     "metadata": {},
     "output_type": "execute_result"
    }
   ],
   "source": [
    "triple_det(A::Matrix) = (A[:,1] × A[:,2]) ⋅ A[:,3]"
   ]
  },
  {
   "cell_type": "code",
   "execution_count": 6,
   "id": "b3d2f05e",
   "metadata": {},
   "outputs": [
    {
     "data": {
      "text/plain": [
       "BenchmarkTools.Trial: 20 samples with 1 evaluation.\n",
       " Range \u001b[90m(\u001b[39m\u001b[36m\u001b[1mmin\u001b[22m\u001b[39m … \u001b[35mmax\u001b[39m\u001b[90m):  \u001b[39m\u001b[36m\u001b[1m252.537 ms\u001b[22m\u001b[39m … \u001b[35m282.159 ms\u001b[39m  \u001b[90m┊\u001b[39m GC \u001b[90m(\u001b[39mmin … max\u001b[90m): \u001b[39m2.22% … 2.08%\n",
       " Time  \u001b[90m(\u001b[39m\u001b[34m\u001b[1mmedian\u001b[22m\u001b[39m\u001b[90m):     \u001b[39m\u001b[34m\u001b[1m263.287 ms               \u001b[22m\u001b[39m\u001b[90m┊\u001b[39m GC \u001b[90m(\u001b[39mmedian\u001b[90m):    \u001b[39m2.18%\n",
       " Time  \u001b[90m(\u001b[39m\u001b[32m\u001b[1mmean\u001b[22m\u001b[39m ± \u001b[32mσ\u001b[39m\u001b[90m):   \u001b[39m\u001b[32m\u001b[1m263.983 ms\u001b[22m\u001b[39m ± \u001b[32m  6.906 ms\u001b[39m  \u001b[90m┊\u001b[39m GC \u001b[90m(\u001b[39mmean ± σ\u001b[90m):  \u001b[39m2.14% ± 0.15%\n",
       "\n",
       "  \u001b[39m▁\u001b[39m▁\u001b[39m \u001b[39m \u001b[39m \u001b[39m \u001b[39m \u001b[39m \u001b[39m▁\u001b[39m \u001b[39m \u001b[39m▁\u001b[39m \u001b[39m \u001b[39m▁\u001b[39m▁\u001b[39m \u001b[39m \u001b[39m \u001b[39m▁\u001b[39m█\u001b[34m▁\u001b[39m\u001b[39m \u001b[39m█\u001b[32m \u001b[39m\u001b[39m \u001b[39m▁\u001b[39m▁\u001b[39m \u001b[39m \u001b[39m▁\u001b[39m \u001b[39m \u001b[39m \u001b[39m▁\u001b[39m▁\u001b[39m▁\u001b[39m \u001b[39m \u001b[39m \u001b[39m▁\u001b[39m \u001b[39m \u001b[39m \u001b[39m \u001b[39m \u001b[39m \u001b[39m \u001b[39m \u001b[39m \u001b[39m \u001b[39m \u001b[39m \u001b[39m \u001b[39m \u001b[39m \u001b[39m \u001b[39m \u001b[39m \u001b[39m \u001b[39m▁\u001b[39m \u001b[39m \n",
       "  \u001b[39m█\u001b[39m█\u001b[39m▁\u001b[39m▁\u001b[39m▁\u001b[39m▁\u001b[39m▁\u001b[39m▁\u001b[39m█\u001b[39m▁\u001b[39m▁\u001b[39m█\u001b[39m▁\u001b[39m▁\u001b[39m█\u001b[39m█\u001b[39m▁\u001b[39m▁\u001b[39m▁\u001b[39m█\u001b[39m█\u001b[34m█\u001b[39m\u001b[39m▁\u001b[39m█\u001b[32m▁\u001b[39m\u001b[39m▁\u001b[39m█\u001b[39m█\u001b[39m▁\u001b[39m▁\u001b[39m█\u001b[39m▁\u001b[39m▁\u001b[39m▁\u001b[39m█\u001b[39m█\u001b[39m█\u001b[39m▁\u001b[39m▁\u001b[39m▁\u001b[39m█\u001b[39m▁\u001b[39m▁\u001b[39m▁\u001b[39m▁\u001b[39m▁\u001b[39m▁\u001b[39m▁\u001b[39m▁\u001b[39m▁\u001b[39m▁\u001b[39m▁\u001b[39m▁\u001b[39m▁\u001b[39m▁\u001b[39m▁\u001b[39m▁\u001b[39m▁\u001b[39m▁\u001b[39m▁\u001b[39m█\u001b[39m \u001b[39m▁\n",
       "  253 ms\u001b[90m           Histogram: frequency by time\u001b[39m          282 ms \u001b[0m\u001b[1m<\u001b[22m\n",
       "\n",
       " Memory estimate\u001b[90m: \u001b[39m\u001b[33m259.40 MiB\u001b[39m, allocs estimate\u001b[90m: \u001b[39m\u001b[33m2000000\u001b[39m."
      ]
     },
     "execution_count": 6,
     "metadata": {},
     "output_type": "execute_result"
    }
   ],
   "source": [
    "bmark0 = @benchmark for _ in 1:1_000_000 det($A) end"
   ]
  },
  {
   "cell_type": "code",
   "execution_count": 7,
   "id": "08c335c8",
   "metadata": {},
   "outputs": [
    {
     "data": {
      "text/plain": [
       "BenchmarkTools.Trial: 25 samples with 1 evaluation.\n",
       " Range \u001b[90m(\u001b[39m\u001b[36m\u001b[1mmin\u001b[22m\u001b[39m … \u001b[35mmax\u001b[39m\u001b[90m):  \u001b[39m\u001b[36m\u001b[1m185.481 ms\u001b[22m\u001b[39m … \u001b[35m276.567 ms\u001b[39m  \u001b[90m┊\u001b[39m GC \u001b[90m(\u001b[39mmin … max\u001b[90m): \u001b[39m5.88% … 4.50%\n",
       " Time  \u001b[90m(\u001b[39m\u001b[34m\u001b[1mmedian\u001b[22m\u001b[39m\u001b[90m):     \u001b[39m\u001b[34m\u001b[1m192.532 ms               \u001b[22m\u001b[39m\u001b[90m┊\u001b[39m GC \u001b[90m(\u001b[39mmedian\u001b[90m):    \u001b[39m5.68%\n",
       " Time  \u001b[90m(\u001b[39m\u001b[32m\u001b[1mmean\u001b[22m\u001b[39m ± \u001b[32mσ\u001b[39m\u001b[90m):   \u001b[39m\u001b[32m\u001b[1m200.571 ms\u001b[22m\u001b[39m ± \u001b[32m 23.631 ms\u001b[39m  \u001b[90m┊\u001b[39m GC \u001b[90m(\u001b[39mmean ± σ\u001b[90m):  \u001b[39m5.42% ± 0.41%\n",
       "\n",
       "  \u001b[39m▄\u001b[39m▁\u001b[39m█\u001b[39m▁\u001b[34m█\u001b[39m\u001b[39m \u001b[39m \u001b[39m \u001b[39m \u001b[39m▄\u001b[32m \u001b[39m\u001b[39m \u001b[39m \u001b[39m \u001b[39m \u001b[39m \u001b[39m \u001b[39m \u001b[39m \u001b[39m \u001b[39m \u001b[39m \u001b[39m \u001b[39m \u001b[39m \u001b[39m \u001b[39m \u001b[39m \u001b[39m \u001b[39m \u001b[39m \u001b[39m \u001b[39m \u001b[39m \u001b[39m \u001b[39m \u001b[39m \u001b[39m \u001b[39m \u001b[39m \u001b[39m \u001b[39m \u001b[39m \u001b[39m \u001b[39m \u001b[39m \u001b[39m \u001b[39m \u001b[39m \u001b[39m \u001b[39m \u001b[39m \u001b[39m \u001b[39m \u001b[39m \u001b[39m \u001b[39m \u001b[39m \u001b[39m \u001b[39m \u001b[39m \u001b[39m \u001b[39m \n",
       "  \u001b[39m█\u001b[39m█\u001b[39m█\u001b[39m█\u001b[34m█\u001b[39m\u001b[39m▁\u001b[39m▆\u001b[39m▆\u001b[39m▁\u001b[39m█\u001b[32m▁\u001b[39m\u001b[39m▁\u001b[39m▁\u001b[39m▆\u001b[39m▆\u001b[39m▁\u001b[39m▁\u001b[39m▁\u001b[39m▁\u001b[39m▁\u001b[39m▁\u001b[39m▁\u001b[39m▆\u001b[39m▁\u001b[39m▁\u001b[39m▁\u001b[39m▁\u001b[39m▁\u001b[39m▁\u001b[39m▁\u001b[39m▁\u001b[39m▁\u001b[39m▁\u001b[39m▁\u001b[39m▁\u001b[39m▁\u001b[39m▁\u001b[39m▁\u001b[39m▁\u001b[39m▁\u001b[39m▁\u001b[39m▁\u001b[39m▁\u001b[39m▁\u001b[39m▁\u001b[39m▁\u001b[39m▁\u001b[39m▁\u001b[39m▁\u001b[39m▁\u001b[39m▁\u001b[39m▁\u001b[39m▁\u001b[39m▁\u001b[39m▁\u001b[39m▁\u001b[39m▁\u001b[39m▁\u001b[39m▆\u001b[39m▁\u001b[39m▆\u001b[39m \u001b[39m▁\n",
       "  185 ms\u001b[90m           Histogram: frequency by time\u001b[39m          277 ms \u001b[0m\u001b[1m<\u001b[22m\n",
       "\n",
       " Memory estimate\u001b[90m: \u001b[39m\u001b[33m427.25 MiB\u001b[39m, allocs estimate\u001b[90m: \u001b[39m\u001b[33m4000000\u001b[39m."
      ]
     },
     "execution_count": 7,
     "metadata": {},
     "output_type": "execute_result"
    }
   ],
   "source": [
    "bmark1 = @benchmark for _ in 1:1_000_000 triple_det($A) end"
   ]
  },
  {
   "cell_type": "code",
   "execution_count": 8,
   "id": "d5ea984d",
   "metadata": {},
   "outputs": [
    {
     "name": "stdout",
     "output_type": "stream",
     "text": [
      "Memory ratio:\n",
      "  mem[my_det]/mem[det] = 1.64706\n",
      "  mem[det]/mem[my_det] = 0.60714.\n"
     ]
    }
   ],
   "source": [
    "mratio = bmark1.memory/bmark0.memory;\n",
    "println(\"Memory ratio:\");\n",
    "println(\"  mem[my_det]/mem[det] = $(round(mratio,digits=5))\");\n",
    "println(\"  mem[det]/mem[my_det] = $(round(1/mratio,digits=5)).\");"
   ]
  },
  {
   "cell_type": "code",
   "execution_count": 9,
   "id": "beab2456",
   "metadata": {},
   "outputs": [
    {
     "name": "stdout",
     "output_type": "stream",
     "text": [
      "Time speed ratio:\n",
      "  time[my_det]/time[det]: 0.73126\n",
      "  time[det]/time[my_det]: 1.3675\n"
     ]
    }
   ],
   "source": [
    "tratio = median(bmark1.times)/median(bmark0.times);\n",
    "println(\"Time speed ratio:\")\n",
    "println(\"  time[my_det]/time[det]: $(round(tratio,digits=5))\")\n",
    "println(\"  time[det]/time[my_det]: $(round(1/tratio,digits=5))\")"
   ]
  },
  {
   "cell_type": "code",
   "execution_count": 10,
   "id": "cfbe2bda",
   "metadata": {},
   "outputs": [
    {
     "data": {
      "text/plain": [
       "8.6254399168e16"
      ]
     },
     "execution_count": 10,
     "metadata": {},
     "output_type": "execute_result"
    }
   ],
   "source": [
    "mt1 = (bmark1.memory)*median(bmark1.times)"
   ]
  },
  {
   "cell_type": "code",
   "execution_count": 11,
   "id": "3a85707e",
   "metadata": {},
   "outputs": [
    {
     "data": {
      "text/plain": [
       "7.1614092016e16"
      ]
     },
     "execution_count": 11,
     "metadata": {},
     "output_type": "execute_result"
    }
   ],
   "source": [
    "mt0 = (bmark0.memory)*median(bmark0.times)"
   ]
  },
  {
   "cell_type": "code",
   "execution_count": 12,
   "id": "aa873257",
   "metadata": {},
   "outputs": [
    {
     "name": "stdout",
     "output_type": "stream",
     "text": [
      "mt deviation of bench1 from bench0: 9.27 %.\n",
      "Ratio: mt1/mt0 = 1.20443.\n"
     ]
    }
   ],
   "source": [
    "Δmt = (mt1 - mt0)/(mt1 + mt0) * 100.0;\n",
    "println(\"mt deviation of bench1 from bench0: $(round(Δmt,digits=2)) %.\")\n",
    "rmt = mt1/mt0;\n",
    "println(\"Ratio: mt1/mt0 = $(round(rmt,digits=5)).\")"
   ]
  },
  {
   "cell_type": "code",
   "execution_count": null,
   "id": "7d79095f",
   "metadata": {},
   "outputs": [],
   "source": []
  }
 ],
 "metadata": {
  "kernelspec": {
   "display_name": "Julia 1.6.1",
   "language": "julia",
   "name": "julia-1.6"
  },
  "language_info": {
   "file_extension": ".jl",
   "mimetype": "application/julia",
   "name": "julia",
   "version": "1.6.2"
  }
 },
 "nbformat": 4,
 "nbformat_minor": 5
}
