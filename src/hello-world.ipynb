{
 "cells": [
  {
   "cell_type": "markdown",
   "id": "cbb4e6b4",
   "metadata": {
    "slideshow": {
     "slide_type": "slide"
    }
   },
   "source": [
    "# ♡@$1^{\\rm st}$ 👀 with Julia\n",
    "\n",
    "Assuming you have already explored Julia, you should have already encountered the Julia REPL and is familiar with the following.\n",
    "![Julia REPL image](./figs/Julia-REPL.png \"REPL.jl\")"
   ]
  },
  {
   "cell_type": "markdown",
   "id": "b5b5fcba",
   "metadata": {
    "slideshow": {
     "slide_type": "subslide"
    }
   },
   "source": [
    "## Hello World\n",
    "\n",
    "The most common first program ever done is the \"Hello, World!\" program.\n",
    "Unlike the lower-level languages, high(er)-level languages will require less inclusion or loading of modules, packages, or scripts.\n",
    "\n",
    "In `c++` for example, we have the following `hello-world.cpp` file.\n",
    "```\n",
    "#include <iostream>\n",
    "\n",
    "int main( void ){\n",
    "    std::cout << \"Hello, World! --c++\" << std::endl;\n",
    "    return 0;\n",
    "}\n",
    "```\n",
    "Then an executable file (usually, `.exe` or `.e` file) is done in two steps: \n",
    "1. compile, and then\n",
    "2. link/build.\n",
    "\n",
    "The final output is usually `hello-world.e` (\\*nix-based) or `hello-world.exe` (win*-based)."
   ]
  },
  {
   "cell_type": "markdown",
   "id": "f64a9e20",
   "metadata": {
    "slideshow": {
     "slide_type": "subslide"
    }
   },
   "source": [
    "In `Julia` like most other higher-level languages, the script just contain as follows."
   ]
  },
  {
   "cell_type": "code",
   "execution_count": 1,
   "id": "55a88c05",
   "metadata": {
    "scrolled": false,
    "slideshow": {
     "slide_type": "fragment"
    }
   },
   "outputs": [
    {
     "name": "stdout",
     "output_type": "stream",
     "text": [
      "Hello, World! --Julia\n"
     ]
    }
   ],
   "source": [
    "println(\"Hello, World! --Julia\") "
   ]
  },
  {
   "cell_type": "markdown",
   "id": "905c4a7e",
   "metadata": {
    "slideshow": {
     "slide_type": "slide"
    }
   },
   "source": [
    "## Setting project environments\n",
    "\n",
    "I suggest that each project `Project` have the following folder structure\n",
    "```\n",
    "/project\n",
    "    /src\n",
    "    /dat\n",
    "    /out\n",
    "```\n",
    "Folder/Directory structure similar to this is automatically generated via the `Pkg.jl` package.\n",
    "\n",
    "The module `Pkg.jl` is already --by default-- available in the Julia REPL environment.\n",
    "The `Pkg` module is accessed via the `]` command as previously shown.\n",
    "- `/src` directory contains all the `s`ou`rc`e files or --for REPL-enabled languages-- the scripts.\n",
    "- `/dat` directory contains all data used by the `/project`.\n",
    "For some, `/dat` contains onlly *source data* or input data in the processes done via the script."
   ]
  },
  {
   "cell_type": "code",
   "execution_count": 2,
   "id": "34d687b8",
   "metadata": {
    "scrolled": true,
    "slideshow": {
     "slide_type": "subslide"
    }
   },
   "outputs": [
    {
     "name": "stderr",
     "output_type": "stream",
     "text": [
      "\u001b[32m\u001b[1m  Activating\u001b[22m\u001b[39m environment at `~/Documents/GitHub/hello-julia/Project.toml`\n"
     ]
    }
   ],
   "source": [
    "] activate ../"
   ]
  },
  {
   "cell_type": "code",
   "execution_count": 3,
   "id": "e5e78f37",
   "metadata": {
    "scrolled": true,
    "slideshow": {
     "slide_type": "fragment"
    }
   },
   "outputs": [
    {
     "name": "stdout",
     "output_type": "stream",
     "text": [
      "\u001b[32m\u001b[1m      Status\u001b[22m\u001b[39m `~/Documents/GitHub/hello-julia/Project.toml`\n",
      " \u001b[90m [7073ff75] \u001b[39mIJulia v1.23.2\n",
      " \u001b[90m [91a5bcdd] \u001b[39mPlots v1.22.3\n"
     ]
    }
   ],
   "source": [
    "] status"
   ]
  },
  {
   "cell_type": "markdown",
   "id": "ab90098b",
   "metadata": {
    "slideshow": {
     "slide_type": "subslide"
    }
   },
   "source": [
    "## High-tech calculator\n",
    "\n",
    "Julia also acts as a high-tech calculator.\n",
    "In its basic state, contains the most common operations and functions."
   ]
  },
  {
   "cell_type": "code",
   "execution_count": 4,
   "id": "183cf705",
   "metadata": {
    "slideshow": {
     "slide_type": "fragment"
    }
   },
   "outputs": [
    {
     "data": {
      "text/plain": [
       "3"
      ]
     },
     "execution_count": 4,
     "metadata": {},
     "output_type": "execute_result"
    }
   ],
   "source": [
    "1 + 2"
   ]
  },
  {
   "cell_type": "code",
   "execution_count": 5,
   "id": "af981bd3",
   "metadata": {
    "slideshow": {
     "slide_type": "fragment"
    }
   },
   "outputs": [
    {
     "data": {
      "text/plain": [
       "8//3"
      ]
     },
     "execution_count": 5,
     "metadata": {},
     "output_type": "execute_result"
    }
   ],
   "source": [
    "5//3 + 9//2^3 ÷ 3//5"
   ]
  },
  {
   "cell_type": "code",
   "execution_count": 6,
   "id": "02078677",
   "metadata": {
    "slideshow": {
     "slide_type": "fragment"
    }
   },
   "outputs": [
    {
     "data": {
      "text/plain": [
       "6.283185307179586 + 1.0im"
      ]
     },
     "execution_count": 6,
     "metadata": {},
     "output_type": "execute_result"
    }
   ],
   "source": [
    "2pi + im"
   ]
  },
  {
   "cell_type": "code",
   "execution_count": 7,
   "id": "29657ce7",
   "metadata": {
    "slideshow": {
     "slide_type": "fragment"
    }
   },
   "outputs": [
    {
     "data": {
      "text/plain": [
       "-1.0"
      ]
     },
     "execution_count": 7,
     "metadata": {},
     "output_type": "execute_result"
    }
   ],
   "source": [
    "α = 3pi/2\n",
    "sin(α)"
   ]
  },
  {
   "cell_type": "markdown",
   "id": "a61f25bf",
   "metadata": {
    "slideshow": {
     "slide_type": "slide"
    }
   },
   "source": [
    "# MATLAB in Julia\n",
    "\n",
    "Julia comes with a linear algebra package based on the Basic Linear Algebra Subprograms ([BLAS](http://www.netlib.org/blas/)) wrapped via Linear Algebra PACKage [LAPACK](http://www.netlib.org/lapack/).\n",
    "Tutorial on the Julia linear algebra is found at the [docs.julialang.org Linear Algebra section](https://docs.julialang.org/en/v1/stdlib/LinearAlgebra/)."
   ]
  },
  {
   "cell_type": "markdown",
   "id": "acdfa728",
   "metadata": {
    "slideshow": {
     "slide_type": "subslide"
    }
   },
   "source": [
    "The Julia `Base` already contains the basic linear algebraic operations.\n",
    "\n",
    "As an example, let's solve the following matrix problem.\n",
    "\n",
    "$$\n",
    "\\left[\\begin{matrix}\n",
    "a_{11} & a_{12} & a_{13}\\\\\n",
    "a_{21} & a_{22} & a_{23}\\\\\n",
    "a_{31} & a_{32} & a_{33}\n",
    "\\end{matrix}\\right]\n",
    "\\left[\\begin{matrix}\n",
    "x_1\\\\\n",
    "x_2\\\\\n",
    "x_3\n",
    "\\end{matrix}\\right]\n",
    "=\n",
    "\\left[\\begin{matrix}\n",
    "b_1\\\\\n",
    "b_2\\\\\n",
    "b_3\n",
    "\\end{matrix}\\right]\n",
    "$$\n",
    "\n",
    "or that\n",
    "\n",
    "$$\n",
    "\\mathbf{A} \\mathbf{x} = \\mathbf{b}.\n",
    "$$"
   ]
  },
  {
   "cell_type": "code",
   "execution_count": 8,
   "id": "9b45a3ce",
   "metadata": {
    "slideshow": {
     "slide_type": "fragment"
    }
   },
   "outputs": [
    {
     "data": {
      "text/plain": [
       "3×3 Matrix{Float64}:\n",
       " 0.90438    0.748916  0.452799\n",
       " 0.0797729  0.906149  0.400973\n",
       " 0.858479   0.61966   0.389063"
      ]
     },
     "execution_count": 8,
     "metadata": {},
     "output_type": "execute_result"
    }
   ],
   "source": [
    "A = rand(3,3)"
   ]
  },
  {
   "cell_type": "code",
   "execution_count": 9,
   "id": "66b58157",
   "metadata": {
    "slideshow": {
     "slide_type": "fragment"
    }
   },
   "outputs": [
    {
     "data": {
      "text/plain": [
       "3-element Vector{Float64}:\n",
       " 0.7331809775080127\n",
       " 0.2260133797358077\n",
       " 0.635480895841684"
      ]
     },
     "execution_count": 9,
     "metadata": {},
     "output_type": "execute_result"
    }
   ],
   "source": [
    "b = rand(3)"
   ]
  },
  {
   "cell_type": "markdown",
   "id": "239134bd",
   "metadata": {
    "slideshow": {
     "slide_type": "subslide"
    }
   },
   "source": [
    "The equation can then be solved via the following\n",
    "\n",
    "$$\\mathbf{x} = \\mathbf{A}^{-1}\\mathbf{b}$$\n",
    "\n",
    "with $\\mathbf{A}^{-1}$ as the inverse of the matrix $\\mathbf{A}$."
   ]
  },
  {
   "cell_type": "code",
   "execution_count": 10,
   "id": "81a10d24",
   "metadata": {
    "slideshow": {
     "slide_type": "fragment"
    }
   },
   "outputs": [
    {
     "data": {
      "text/plain": [
       "3-element Vector{Float64}:\n",
       "  -3.384877753683602\n",
       " -11.788627576447242\n",
       "  27.877904161366043"
      ]
     },
     "execution_count": 10,
     "metadata": {},
     "output_type": "execute_result"
    }
   ],
   "source": [
    "x = A \\ b"
   ]
  },
  {
   "cell_type": "markdown",
   "id": "f6d438c7",
   "metadata": {},
   "source": [
    "...such that we can say:"
   ]
  },
  {
   "cell_type": "code",
   "execution_count": 11,
   "id": "c59e9c95",
   "metadata": {},
   "outputs": [
    {
     "data": {
      "text/plain": [
       "true"
      ]
     },
     "execution_count": 11,
     "metadata": {},
     "output_type": "execute_result"
    }
   ],
   "source": [
    "A*x ≈ b"
   ]
  },
  {
   "cell_type": "markdown",
   "id": "1d231dee",
   "metadata": {
    "slideshow": {
     "slide_type": "slide"
    }
   },
   "source": [
    "## Full linear algebra module\n",
    "The linear algebra module of Julia is loaded via:"
   ]
  },
  {
   "cell_type": "code",
   "execution_count": 94,
   "id": "c522af11",
   "metadata": {
    "slideshow": {
     "slide_type": "fragment"
    }
   },
   "outputs": [
    {
     "data": {
      "text/plain": [
       "R (generic function with 1 method)"
      ]
     },
     "execution_count": 94,
     "metadata": {},
     "output_type": "execute_result"
    }
   ],
   "source": [
    "using LinearAlgebra\n",
    "\n",
    "R(θ) = [ cos(θ) -sin(θ)\n",
    "         sin(θ) cos(θ) ]"
   ]
  },
  {
   "cell_type": "code",
   "execution_count": 96,
   "id": "77cf4256",
   "metadata": {},
   "outputs": [
    {
     "data": {
      "text/plain": [
       "Eigen{ComplexF64, ComplexF64, Matrix{ComplexF64}, Vector{ComplexF64}}\n",
       "values:\n",
       "2-element Vector{ComplexF64}:\n",
       " 0.30901699437494745 - 0.9510565162951536im\n",
       " 0.30901699437494745 + 0.9510565162951536im\n",
       "vectors:\n",
       "2×2 Matrix{ComplexF64}:\n",
       "       0.0+0.707107im        0.0-0.707107im\n",
       " -0.707107-0.0im       -0.707107+0.0im"
      ]
     },
     "execution_count": 96,
     "metadata": {},
     "output_type": "execute_result"
    }
   ],
   "source": [
    "e = eigen(R(2*pi/5))"
   ]
  },
  {
   "cell_type": "code",
   "execution_count": 97,
   "id": "05031908",
   "metadata": {
    "slideshow": {
     "slide_type": "slide"
    }
   },
   "outputs": [
    {
     "data": {
      "image/svg+xml": [
       "<?xml version=\"1.0\" encoding=\"utf-8\"?>\n",
       "<svg xmlns=\"http://www.w3.org/2000/svg\" xmlns:xlink=\"http://www.w3.org/1999/xlink\" width=\"600\" height=\"400\" viewBox=\"0 0 2400 1600\">\n",
       "<defs>\n",
       "  <clipPath id=\"clip540\">\n",
       "    <rect x=\"0\" y=\"0\" width=\"2400\" height=\"1600\"/>\n",
       "  </clipPath>\n",
       "</defs>\n",
       "<path clip-path=\"url(#clip540)\" d=\"\n",
       "M0 1600 L2400 1600 L2400 0 L0 0  Z\n",
       "  \" fill=\"#ffffff\" fill-rule=\"evenodd\" fill-opacity=\"1\"/>\n",
       "<defs>\n",
       "  <clipPath id=\"clip541\">\n",
       "    <rect x=\"480\" y=\"0\" width=\"1681\" height=\"1600\"/>\n",
       "  </clipPath>\n",
       "</defs>\n",
       "<path clip-path=\"url(#clip540)\" d=\"\n",
       "M249.542 1423.18 L2352.76 1423.18 L2352.76 47.2441 L249.542 47.2441  Z\n",
       "  \" fill=\"#ffffff\" fill-rule=\"evenodd\" fill-opacity=\"1\"/>\n",
       "<defs>\n",
       "  <clipPath id=\"clip542\">\n",
       "    <rect x=\"249\" y=\"47\" width=\"2104\" height=\"1377\"/>\n",
       "  </clipPath>\n",
       "</defs>\n",
       "<polyline clip-path=\"url(#clip542)\" style=\"stroke:#000000; stroke-linecap:butt; stroke-linejoin:round; stroke-width:2; stroke-opacity:0.1; fill:none\" points=\"\n",
       "  282.612,1423.18 282.612,47.2441 \n",
       "  \"/>\n",
       "<polyline clip-path=\"url(#clip542)\" style=\"stroke:#000000; stroke-linecap:butt; stroke-linejoin:round; stroke-width:2; stroke-opacity:0.1; fill:none\" points=\"\n",
       "  795.688,1423.18 795.688,47.2441 \n",
       "  \"/>\n",
       "<polyline clip-path=\"url(#clip542)\" style=\"stroke:#000000; stroke-linecap:butt; stroke-linejoin:round; stroke-width:2; stroke-opacity:0.1; fill:none\" points=\"\n",
       "  1308.76,1423.18 1308.76,47.2441 \n",
       "  \"/>\n",
       "<polyline clip-path=\"url(#clip542)\" style=\"stroke:#000000; stroke-linecap:butt; stroke-linejoin:round; stroke-width:2; stroke-opacity:0.1; fill:none\" points=\"\n",
       "  1821.84,1423.18 1821.84,47.2441 \n",
       "  \"/>\n",
       "<polyline clip-path=\"url(#clip542)\" style=\"stroke:#000000; stroke-linecap:butt; stroke-linejoin:round; stroke-width:2; stroke-opacity:0.1; fill:none\" points=\"\n",
       "  2334.91,1423.18 2334.91,47.2441 \n",
       "  \"/>\n",
       "<polyline clip-path=\"url(#clip540)\" style=\"stroke:#000000; stroke-linecap:butt; stroke-linejoin:round; stroke-width:4; stroke-opacity:1; fill:none\" points=\"\n",
       "  249.542,1423.18 2352.76,1423.18 \n",
       "  \"/>\n",
       "<polyline clip-path=\"url(#clip540)\" style=\"stroke:#000000; stroke-linecap:butt; stroke-linejoin:round; stroke-width:4; stroke-opacity:1; fill:none\" points=\"\n",
       "  282.612,1423.18 282.612,1404.28 \n",
       "  \"/>\n",
       "<polyline clip-path=\"url(#clip540)\" style=\"stroke:#000000; stroke-linecap:butt; stroke-linejoin:round; stroke-width:4; stroke-opacity:1; fill:none\" points=\"\n",
       "  795.688,1423.18 795.688,1404.28 \n",
       "  \"/>\n",
       "<polyline clip-path=\"url(#clip540)\" style=\"stroke:#000000; stroke-linecap:butt; stroke-linejoin:round; stroke-width:4; stroke-opacity:1; fill:none\" points=\"\n",
       "  1308.76,1423.18 1308.76,1404.28 \n",
       "  \"/>\n",
       "<polyline clip-path=\"url(#clip540)\" style=\"stroke:#000000; stroke-linecap:butt; stroke-linejoin:round; stroke-width:4; stroke-opacity:1; fill:none\" points=\"\n",
       "  1821.84,1423.18 1821.84,1404.28 \n",
       "  \"/>\n",
       "<polyline clip-path=\"url(#clip540)\" style=\"stroke:#000000; stroke-linecap:butt; stroke-linejoin:round; stroke-width:4; stroke-opacity:1; fill:none\" points=\"\n",
       "  2334.91,1423.18 2334.91,1404.28 \n",
       "  \"/>\n",
       "<path clip-path=\"url(#clip540)\" d=\"M244.916 1452.37 Q241.304 1452.37 239.476 1455.94 Q237.67 1459.48 237.67 1466.61 Q237.67 1473.71 239.476 1477.28 Q241.304 1480.82 244.916 1480.82 Q248.55 1480.82 250.355 1477.28 Q252.184 1473.71 252.184 1466.61 Q252.184 1459.48 250.355 1455.94 Q248.55 1452.37 244.916 1452.37 M244.916 1448.67 Q250.726 1448.67 253.781 1453.27 Q256.86 1457.86 256.86 1466.61 Q256.86 1475.33 253.781 1479.94 Q250.726 1484.52 244.916 1484.52 Q239.105 1484.52 236.027 1479.94 Q232.971 1475.33 232.971 1466.61 Q232.971 1457.86 236.027 1453.27 Q239.105 1448.67 244.916 1448.67 Z\" fill=\"#000000\" fill-rule=\"evenodd\" fill-opacity=\"1\" /><path clip-path=\"url(#clip540)\" d=\"M265.077 1477.97 L269.962 1477.97 L269.962 1483.85 L265.077 1483.85 L265.077 1477.97 Z\" fill=\"#000000\" fill-rule=\"evenodd\" fill-opacity=\"1\" /><path clip-path=\"url(#clip540)\" d=\"M290.147 1452.37 Q286.536 1452.37 284.707 1455.94 Q282.901 1459.48 282.901 1466.61 Q282.901 1473.71 284.707 1477.28 Q286.536 1480.82 290.147 1480.82 Q293.781 1480.82 295.587 1477.28 Q297.415 1473.71 297.415 1466.61 Q297.415 1459.48 295.587 1455.94 Q293.781 1452.37 290.147 1452.37 M290.147 1448.67 Q295.957 1448.67 299.012 1453.27 Q302.091 1457.86 302.091 1466.61 Q302.091 1475.33 299.012 1479.94 Q295.957 1484.52 290.147 1484.52 Q284.337 1484.52 281.258 1479.94 Q278.202 1475.33 278.202 1466.61 Q278.202 1457.86 281.258 1453.27 Q284.337 1448.67 290.147 1448.67 Z\" fill=\"#000000\" fill-rule=\"evenodd\" fill-opacity=\"1\" /><path clip-path=\"url(#clip540)\" d=\"M320.309 1452.37 Q316.698 1452.37 314.869 1455.94 Q313.063 1459.48 313.063 1466.61 Q313.063 1473.71 314.869 1477.28 Q316.698 1480.82 320.309 1480.82 Q323.943 1480.82 325.748 1477.28 Q327.577 1473.71 327.577 1466.61 Q327.577 1459.48 325.748 1455.94 Q323.943 1452.37 320.309 1452.37 M320.309 1448.67 Q326.119 1448.67 329.174 1453.27 Q332.253 1457.86 332.253 1466.61 Q332.253 1475.33 329.174 1479.94 Q326.119 1484.52 320.309 1484.52 Q314.499 1484.52 311.42 1479.94 Q308.364 1475.33 308.364 1466.61 Q308.364 1457.86 311.42 1453.27 Q314.499 1448.67 320.309 1448.67 Z\" fill=\"#000000\" fill-rule=\"evenodd\" fill-opacity=\"1\" /><path clip-path=\"url(#clip540)\" d=\"M758.489 1452.37 Q754.878 1452.37 753.049 1455.94 Q751.243 1459.48 751.243 1466.61 Q751.243 1473.71 753.049 1477.28 Q754.878 1480.82 758.489 1480.82 Q762.123 1480.82 763.928 1477.28 Q765.757 1473.71 765.757 1466.61 Q765.757 1459.48 763.928 1455.94 Q762.123 1452.37 758.489 1452.37 M758.489 1448.67 Q764.299 1448.67 767.354 1453.27 Q770.433 1457.86 770.433 1466.61 Q770.433 1475.33 767.354 1479.94 Q764.299 1484.52 758.489 1484.52 Q752.679 1484.52 749.6 1479.94 Q746.544 1475.33 746.544 1466.61 Q746.544 1457.86 749.6 1453.27 Q752.679 1448.67 758.489 1448.67 Z\" fill=\"#000000\" fill-rule=\"evenodd\" fill-opacity=\"1\" /><path clip-path=\"url(#clip540)\" d=\"M778.651 1477.97 L783.535 1477.97 L783.535 1483.85 L778.651 1483.85 L778.651 1477.97 Z\" fill=\"#000000\" fill-rule=\"evenodd\" fill-opacity=\"1\" /><path clip-path=\"url(#clip540)\" d=\"M797.748 1479.92 L814.067 1479.92 L814.067 1483.85 L792.123 1483.85 L792.123 1479.92 Q794.785 1477.16 799.368 1472.53 Q803.975 1467.88 805.155 1466.54 Q807.4 1464.01 808.28 1462.28 Q809.183 1460.52 809.183 1458.83 Q809.183 1456.07 807.238 1454.34 Q805.317 1452.6 802.215 1452.6 Q800.016 1452.6 797.563 1453.37 Q795.132 1454.13 792.354 1455.68 L792.354 1450.96 Q795.178 1449.82 797.632 1449.25 Q800.086 1448.67 802.123 1448.67 Q807.493 1448.67 810.688 1451.35 Q813.882 1454.04 813.882 1458.53 Q813.882 1460.66 813.072 1462.58 Q812.285 1464.48 810.178 1467.07 Q809.6 1467.74 806.498 1470.96 Q803.396 1474.15 797.748 1479.92 Z\" fill=\"#000000\" fill-rule=\"evenodd\" fill-opacity=\"1\" /><path clip-path=\"url(#clip540)\" d=\"M823.928 1449.29 L842.285 1449.29 L842.285 1453.23 L828.211 1453.23 L828.211 1461.7 Q829.229 1461.35 830.248 1461.19 Q831.266 1461 832.285 1461 Q838.072 1461 841.451 1464.18 Q844.831 1467.35 844.831 1472.76 Q844.831 1478.34 841.359 1481.44 Q837.886 1484.52 831.567 1484.52 Q829.391 1484.52 827.123 1484.15 Q824.877 1483.78 822.47 1483.04 L822.47 1478.34 Q824.553 1479.48 826.775 1480.03 Q828.998 1480.59 831.474 1480.59 Q835.479 1480.59 837.817 1478.48 Q840.155 1476.38 840.155 1472.76 Q840.155 1469.15 837.817 1467.05 Q835.479 1464.94 831.474 1464.94 Q829.599 1464.94 827.724 1465.36 Q825.873 1465.77 823.928 1466.65 L823.928 1449.29 Z\" fill=\"#000000\" fill-rule=\"evenodd\" fill-opacity=\"1\" /><path clip-path=\"url(#clip540)\" d=\"M1271.07 1452.37 Q1267.46 1452.37 1265.63 1455.94 Q1263.82 1459.48 1263.82 1466.61 Q1263.82 1473.71 1265.63 1477.28 Q1267.46 1480.82 1271.07 1480.82 Q1274.7 1480.82 1276.51 1477.28 Q1278.33 1473.71 1278.33 1466.61 Q1278.33 1459.48 1276.51 1455.94 Q1274.7 1452.37 1271.07 1452.37 M1271.07 1448.67 Q1276.88 1448.67 1279.93 1453.27 Q1283.01 1457.86 1283.01 1466.61 Q1283.01 1475.33 1279.93 1479.94 Q1276.88 1484.52 1271.07 1484.52 Q1265.26 1484.52 1262.18 1479.94 Q1259.12 1475.33 1259.12 1466.61 Q1259.12 1457.86 1262.18 1453.27 Q1265.26 1448.67 1271.07 1448.67 Z\" fill=\"#000000\" fill-rule=\"evenodd\" fill-opacity=\"1\" /><path clip-path=\"url(#clip540)\" d=\"M1291.23 1477.97 L1296.11 1477.97 L1296.11 1483.85 L1291.23 1483.85 L1291.23 1477.97 Z\" fill=\"#000000\" fill-rule=\"evenodd\" fill-opacity=\"1\" /><path clip-path=\"url(#clip540)\" d=\"M1306.34 1449.29 L1324.7 1449.29 L1324.7 1453.23 L1310.63 1453.23 L1310.63 1461.7 Q1311.64 1461.35 1312.66 1461.19 Q1313.68 1461 1314.7 1461 Q1320.49 1461 1323.87 1464.18 Q1327.25 1467.35 1327.25 1472.76 Q1327.25 1478.34 1323.77 1481.44 Q1320.3 1484.52 1313.98 1484.52 Q1311.81 1484.52 1309.54 1484.15 Q1307.29 1483.78 1304.89 1483.04 L1304.89 1478.34 Q1306.97 1479.48 1309.19 1480.03 Q1311.41 1480.59 1313.89 1480.59 Q1317.89 1480.59 1320.23 1478.48 Q1322.57 1476.38 1322.57 1472.76 Q1322.57 1469.15 1320.23 1467.05 Q1317.89 1464.94 1313.89 1464.94 Q1312.02 1464.94 1310.14 1465.36 Q1308.29 1465.77 1306.34 1466.65 L1306.34 1449.29 Z\" fill=\"#000000\" fill-rule=\"evenodd\" fill-opacity=\"1\" /><path clip-path=\"url(#clip540)\" d=\"M1346.46 1452.37 Q1342.85 1452.37 1341.02 1455.94 Q1339.21 1459.48 1339.21 1466.61 Q1339.21 1473.71 1341.02 1477.28 Q1342.85 1480.82 1346.46 1480.82 Q1350.09 1480.82 1351.9 1477.28 Q1353.73 1473.71 1353.73 1466.61 Q1353.73 1459.48 1351.9 1455.94 Q1350.09 1452.37 1346.46 1452.37 M1346.46 1448.67 Q1352.27 1448.67 1355.33 1453.27 Q1358.4 1457.86 1358.4 1466.61 Q1358.4 1475.33 1355.33 1479.94 Q1352.27 1484.52 1346.46 1484.52 Q1340.65 1484.52 1337.57 1479.94 Q1334.52 1475.33 1334.52 1466.61 Q1334.52 1457.86 1337.57 1453.27 Q1340.65 1448.67 1346.46 1448.67 Z\" fill=\"#000000\" fill-rule=\"evenodd\" fill-opacity=\"1\" /><path clip-path=\"url(#clip540)\" d=\"M1784.64 1452.37 Q1781.03 1452.37 1779.2 1455.94 Q1777.39 1459.48 1777.39 1466.61 Q1777.39 1473.71 1779.2 1477.28 Q1781.03 1480.82 1784.64 1480.82 Q1788.27 1480.82 1790.08 1477.28 Q1791.91 1473.71 1791.91 1466.61 Q1791.91 1459.48 1790.08 1455.94 Q1788.27 1452.37 1784.64 1452.37 M1784.64 1448.67 Q1790.45 1448.67 1793.51 1453.27 Q1796.58 1457.86 1796.58 1466.61 Q1796.58 1475.33 1793.51 1479.94 Q1790.45 1484.52 1784.64 1484.52 Q1778.83 1484.52 1775.75 1479.94 Q1772.7 1475.33 1772.7 1466.61 Q1772.7 1457.86 1775.75 1453.27 Q1778.83 1448.67 1784.64 1448.67 Z\" fill=\"#000000\" fill-rule=\"evenodd\" fill-opacity=\"1\" /><path clip-path=\"url(#clip540)\" d=\"M1804.8 1477.97 L1809.69 1477.97 L1809.69 1483.85 L1804.8 1483.85 L1804.8 1477.97 Z\" fill=\"#000000\" fill-rule=\"evenodd\" fill-opacity=\"1\" /><path clip-path=\"url(#clip540)\" d=\"M1818.69 1449.29 L1840.91 1449.29 L1840.91 1451.28 L1828.37 1483.85 L1823.48 1483.85 L1835.29 1453.23 L1818.69 1453.23 L1818.69 1449.29 Z\" fill=\"#000000\" fill-rule=\"evenodd\" fill-opacity=\"1\" /><path clip-path=\"url(#clip540)\" d=\"M1850.08 1449.29 L1868.44 1449.29 L1868.44 1453.23 L1854.36 1453.23 L1854.36 1461.7 Q1855.38 1461.35 1856.4 1461.19 Q1857.42 1461 1858.44 1461 Q1864.22 1461 1867.6 1464.18 Q1870.98 1467.35 1870.98 1472.76 Q1870.98 1478.34 1867.51 1481.44 Q1864.04 1484.52 1857.72 1484.52 Q1855.54 1484.52 1853.27 1484.15 Q1851.03 1483.78 1848.62 1483.04 L1848.62 1478.34 Q1850.7 1479.48 1852.93 1480.03 Q1855.15 1480.59 1857.63 1480.59 Q1861.63 1480.59 1863.97 1478.48 Q1866.31 1476.38 1866.31 1472.76 Q1866.31 1469.15 1863.97 1467.05 Q1861.63 1464.94 1857.63 1464.94 Q1855.75 1464.94 1853.88 1465.36 Q1852.02 1465.77 1850.08 1466.65 L1850.08 1449.29 Z\" fill=\"#000000\" fill-rule=\"evenodd\" fill-opacity=\"1\" /><path clip-path=\"url(#clip540)\" d=\"M2286.99 1479.92 L2294.62 1479.92 L2294.62 1453.55 L2286.31 1455.22 L2286.31 1450.96 L2294.58 1449.29 L2299.25 1449.29 L2299.25 1479.92 L2306.89 1479.92 L2306.89 1483.85 L2286.99 1483.85 L2286.99 1479.92 Z\" fill=\"#000000\" fill-rule=\"evenodd\" fill-opacity=\"1\" /><path clip-path=\"url(#clip540)\" d=\"M2316.34 1477.97 L2321.22 1477.97 L2321.22 1483.85 L2316.34 1483.85 L2316.34 1477.97 Z\" fill=\"#000000\" fill-rule=\"evenodd\" fill-opacity=\"1\" /><path clip-path=\"url(#clip540)\" d=\"M2341.41 1452.37 Q2337.8 1452.37 2335.97 1455.94 Q2334.16 1459.48 2334.16 1466.61 Q2334.16 1473.71 2335.97 1477.28 Q2337.8 1480.82 2341.41 1480.82 Q2345.04 1480.82 2346.85 1477.28 Q2348.68 1473.71 2348.68 1466.61 Q2348.68 1459.48 2346.85 1455.94 Q2345.04 1452.37 2341.41 1452.37 M2341.41 1448.67 Q2347.22 1448.67 2350.27 1453.27 Q2353.35 1457.86 2353.35 1466.61 Q2353.35 1475.33 2350.27 1479.94 Q2347.22 1484.52 2341.41 1484.52 Q2335.6 1484.52 2332.52 1479.94 Q2329.46 1475.33 2329.46 1466.61 Q2329.46 1457.86 2332.52 1453.27 Q2335.6 1448.67 2341.41 1448.67 Z\" fill=\"#000000\" fill-rule=\"evenodd\" fill-opacity=\"1\" /><path clip-path=\"url(#clip540)\" d=\"M2371.57 1452.37 Q2367.96 1452.37 2366.13 1455.94 Q2364.32 1459.48 2364.32 1466.61 Q2364.32 1473.71 2366.13 1477.28 Q2367.96 1480.82 2371.57 1480.82 Q2375.2 1480.82 2377.01 1477.28 Q2378.84 1473.71 2378.84 1466.61 Q2378.84 1459.48 2377.01 1455.94 Q2375.2 1452.37 2371.57 1452.37 M2371.57 1448.67 Q2377.38 1448.67 2380.43 1453.27 Q2383.51 1457.86 2383.51 1466.61 Q2383.51 1475.33 2380.43 1479.94 Q2377.38 1484.52 2371.57 1484.52 Q2365.76 1484.52 2362.68 1479.94 Q2359.62 1475.33 2359.62 1466.61 Q2359.62 1457.86 2362.68 1453.27 Q2365.76 1448.67 2371.57 1448.67 Z\" fill=\"#000000\" fill-rule=\"evenodd\" fill-opacity=\"1\" /><path clip-path=\"url(#clip540)\" d=\"M1152.32 1562.7 L1152.32 1581.6 L1146.43 1581.6 L1146.43 1532.4 L1152.32 1532.4 L1152.32 1537.81 Q1154.16 1534.62 1156.97 1533.1 Q1159.8 1531.54 1163.71 1531.54 Q1170.21 1531.54 1174.25 1536.69 Q1178.32 1541.85 1178.32 1550.25 Q1178.32 1558.65 1174.25 1563.81 Q1170.21 1568.97 1163.71 1568.97 Q1159.8 1568.97 1156.97 1567.44 Q1154.16 1565.88 1152.32 1562.7 M1172.24 1550.25 Q1172.24 1543.79 1169.57 1540.13 Q1166.93 1536.44 1162.28 1536.44 Q1157.63 1536.44 1154.96 1540.13 Q1152.32 1543.79 1152.32 1550.25 Q1152.32 1556.71 1154.96 1560.4 Q1157.63 1564.07 1162.28 1564.07 Q1166.93 1564.07 1169.57 1560.4 Q1172.24 1556.71 1172.24 1550.25 Z\" fill=\"#000000\" fill-rule=\"evenodd\" fill-opacity=\"1\" /><path clip-path=\"url(#clip540)\" d=\"M1201.84 1536.5 Q1197.13 1536.5 1194.4 1540.19 Q1191.66 1543.85 1191.66 1550.25 Q1191.66 1556.65 1194.36 1560.34 Q1197.1 1564 1201.84 1564 Q1206.52 1564 1209.26 1560.31 Q1212 1556.62 1212 1550.25 Q1212 1543.92 1209.26 1540.23 Q1206.52 1536.5 1201.84 1536.5 M1201.84 1531.54 Q1209.48 1531.54 1213.84 1536.5 Q1218.2 1541.47 1218.2 1550.25 Q1218.2 1559 1213.84 1564 Q1209.48 1568.97 1201.84 1568.97 Q1194.17 1568.97 1189.81 1564 Q1185.48 1559 1185.48 1550.25 Q1185.48 1541.47 1189.81 1536.5 Q1194.17 1531.54 1201.84 1531.54 Z\" fill=\"#000000\" fill-rule=\"evenodd\" fill-opacity=\"1\" /><path clip-path=\"url(#clip540)\" d=\"M1250.64 1533.45 L1250.64 1538.98 Q1248.15 1537.71 1245.48 1537.07 Q1242.81 1536.44 1239.94 1536.44 Q1235.58 1536.44 1233.39 1537.77 Q1231.22 1539.11 1231.22 1541.79 Q1231.22 1543.82 1232.78 1545 Q1234.34 1546.15 1239.05 1547.2 L1241.06 1547.64 Q1247.3 1548.98 1249.91 1551.43 Q1252.55 1553.85 1252.55 1558.21 Q1252.55 1563.17 1248.6 1566.07 Q1244.69 1568.97 1237.81 1568.97 Q1234.95 1568.97 1231.83 1568.39 Q1228.74 1567.85 1225.3 1566.74 L1225.3 1560.69 Q1228.55 1562.38 1231.7 1563.24 Q1234.85 1564.07 1237.94 1564.07 Q1242.08 1564.07 1244.3 1562.66 Q1246.53 1561.23 1246.53 1558.65 Q1246.53 1556.27 1244.91 1554.99 Q1243.32 1553.72 1237.87 1552.54 L1235.84 1552.07 Q1230.39 1550.92 1227.98 1548.56 Q1225.56 1546.18 1225.56 1542.04 Q1225.56 1537.01 1229.12 1534.27 Q1232.69 1531.54 1239.24 1531.54 Q1242.49 1531.54 1245.35 1532.01 Q1248.22 1532.49 1250.64 1533.45 Z\" fill=\"#000000\" fill-rule=\"evenodd\" fill-opacity=\"1\" /><path clip-path=\"url(#clip540)\" d=\"M1261.87 1532.4 L1267.73 1532.4 L1267.73 1568.04 L1261.87 1568.04 L1261.87 1532.4 M1261.87 1518.52 L1267.73 1518.52 L1267.73 1525.93 L1261.87 1525.93 L1261.87 1518.52 Z\" fill=\"#000000\" fill-rule=\"evenodd\" fill-opacity=\"1\" /><path clip-path=\"url(#clip540)\" d=\"M1285.78 1522.27 L1285.78 1532.4 L1297.84 1532.4 L1297.84 1536.95 L1285.78 1536.95 L1285.78 1556.3 Q1285.78 1560.66 1286.95 1561.9 Q1288.16 1563.14 1291.82 1563.14 L1297.84 1563.14 L1297.84 1568.04 L1291.82 1568.04 Q1285.04 1568.04 1282.47 1565.53 Q1279.89 1562.98 1279.89 1556.3 L1279.89 1536.95 L1275.59 1536.95 L1275.59 1532.4 L1279.89 1532.4 L1279.89 1522.27 L1285.78 1522.27 Z\" fill=\"#000000\" fill-rule=\"evenodd\" fill-opacity=\"1\" /><path clip-path=\"url(#clip540)\" d=\"M1305.54 1532.4 L1311.4 1532.4 L1311.4 1568.04 L1305.54 1568.04 L1305.54 1532.4 M1305.54 1518.52 L1311.4 1518.52 L1311.4 1525.93 L1305.54 1525.93 L1305.54 1518.52 Z\" fill=\"#000000\" fill-rule=\"evenodd\" fill-opacity=\"1\" /><path clip-path=\"url(#clip540)\" d=\"M1337.47 1536.5 Q1332.75 1536.5 1330.02 1540.19 Q1327.28 1543.85 1327.28 1550.25 Q1327.28 1556.65 1329.99 1560.34 Q1332.72 1564 1337.47 1564 Q1342.14 1564 1344.88 1560.31 Q1347.62 1556.62 1347.62 1550.25 Q1347.62 1543.92 1344.88 1540.23 Q1342.14 1536.5 1337.47 1536.5 M1337.47 1531.54 Q1345.1 1531.54 1349.46 1536.5 Q1353.83 1541.47 1353.83 1550.25 Q1353.83 1559 1349.46 1564 Q1345.1 1568.97 1337.47 1568.97 Q1329.79 1568.97 1325.43 1564 Q1321.11 1559 1321.11 1550.25 Q1321.11 1541.47 1325.43 1536.5 Q1329.79 1531.54 1337.47 1531.54 Z\" fill=\"#000000\" fill-rule=\"evenodd\" fill-opacity=\"1\" /><path clip-path=\"url(#clip540)\" d=\"M1393.17 1546.53 L1393.17 1568.04 L1387.31 1568.04 L1387.31 1546.72 Q1387.31 1541.66 1385.34 1539.14 Q1383.36 1536.63 1379.42 1536.63 Q1374.67 1536.63 1371.94 1539.65 Q1369.2 1542.68 1369.2 1547.9 L1369.2 1568.04 L1363.31 1568.04 L1363.31 1532.4 L1369.2 1532.4 L1369.2 1537.93 Q1371.3 1534.72 1374.13 1533.13 Q1377 1531.54 1380.72 1531.54 Q1386.86 1531.54 1390.01 1535.36 Q1393.17 1539.14 1393.17 1546.53 Z\" fill=\"#000000\" fill-rule=\"evenodd\" fill-opacity=\"1\" /><path clip-path=\"url(#clip540)\" d=\"M1455.2 1532.4 L1442.31 1549.74 L1455.87 1568.04 L1448.96 1568.04 L1438.58 1554.04 L1428.21 1568.04 L1421.3 1568.04 L1435.15 1549.39 L1422.48 1532.4 L1429.39 1532.4 L1438.84 1545.1 L1448.29 1532.4 L1455.2 1532.4 Z\" fill=\"#000000\" fill-rule=\"evenodd\" fill-opacity=\"1\" /><polyline clip-path=\"url(#clip542)\" style=\"stroke:#000000; stroke-linecap:butt; stroke-linejoin:round; stroke-width:2; stroke-opacity:0.1; fill:none\" points=\"\n",
       "  249.542,1385.92 2352.76,1385.92 \n",
       "  \"/>\n",
       "<polyline clip-path=\"url(#clip542)\" style=\"stroke:#000000; stroke-linecap:butt; stroke-linejoin:round; stroke-width:2; stroke-opacity:0.1; fill:none\" points=\"\n",
       "  249.542,1059.39 2352.76,1059.39 \n",
       "  \"/>\n",
       "<polyline clip-path=\"url(#clip542)\" style=\"stroke:#000000; stroke-linecap:butt; stroke-linejoin:round; stroke-width:2; stroke-opacity:0.1; fill:none\" points=\"\n",
       "  249.542,732.861 2352.76,732.861 \n",
       "  \"/>\n",
       "<polyline clip-path=\"url(#clip542)\" style=\"stroke:#000000; stroke-linecap:butt; stroke-linejoin:round; stroke-width:2; stroke-opacity:0.1; fill:none\" points=\"\n",
       "  249.542,406.329 2352.76,406.329 \n",
       "  \"/>\n",
       "<polyline clip-path=\"url(#clip542)\" style=\"stroke:#000000; stroke-linecap:butt; stroke-linejoin:round; stroke-width:2; stroke-opacity:0.1; fill:none\" points=\"\n",
       "  249.542,79.7977 2352.76,79.7977 \n",
       "  \"/>\n",
       "<polyline clip-path=\"url(#clip540)\" style=\"stroke:#000000; stroke-linecap:butt; stroke-linejoin:round; stroke-width:4; stroke-opacity:1; fill:none\" points=\"\n",
       "  249.542,1423.18 249.542,47.2441 \n",
       "  \"/>\n",
       "<polyline clip-path=\"url(#clip540)\" style=\"stroke:#000000; stroke-linecap:butt; stroke-linejoin:round; stroke-width:4; stroke-opacity:1; fill:none\" points=\"\n",
       "  249.542,1385.92 268.44,1385.92 \n",
       "  \"/>\n",
       "<polyline clip-path=\"url(#clip540)\" style=\"stroke:#000000; stroke-linecap:butt; stroke-linejoin:round; stroke-width:4; stroke-opacity:1; fill:none\" points=\"\n",
       "  249.542,1059.39 268.44,1059.39 \n",
       "  \"/>\n",
       "<polyline clip-path=\"url(#clip540)\" style=\"stroke:#000000; stroke-linecap:butt; stroke-linejoin:round; stroke-width:4; stroke-opacity:1; fill:none\" points=\"\n",
       "  249.542,732.861 268.44,732.861 \n",
       "  \"/>\n",
       "<polyline clip-path=\"url(#clip540)\" style=\"stroke:#000000; stroke-linecap:butt; stroke-linejoin:round; stroke-width:4; stroke-opacity:1; fill:none\" points=\"\n",
       "  249.542,406.329 268.44,406.329 \n",
       "  \"/>\n",
       "<polyline clip-path=\"url(#clip540)\" style=\"stroke:#000000; stroke-linecap:butt; stroke-linejoin:round; stroke-width:4; stroke-opacity:1; fill:none\" points=\"\n",
       "  249.542,79.7977 268.44,79.7977 \n",
       "  \"/>\n",
       "<path clip-path=\"url(#clip540)\" d=\"M126.205 1371.72 Q122.593 1371.72 120.765 1375.29 Q118.959 1378.83 118.959 1385.96 Q118.959 1393.06 120.765 1396.63 Q122.593 1400.17 126.205 1400.17 Q129.839 1400.17 131.644 1396.63 Q133.473 1393.06 133.473 1385.96 Q133.473 1378.83 131.644 1375.29 Q129.839 1371.72 126.205 1371.72 M126.205 1368.02 Q132.015 1368.02 135.07 1372.63 Q138.149 1377.21 138.149 1385.96 Q138.149 1394.69 135.07 1399.29 Q132.015 1403.88 126.205 1403.88 Q120.394 1403.88 117.316 1399.29 Q114.26 1394.69 114.26 1385.96 Q114.26 1377.21 117.316 1372.63 Q120.394 1368.02 126.205 1368.02 Z\" fill=\"#000000\" fill-rule=\"evenodd\" fill-opacity=\"1\" /><path clip-path=\"url(#clip540)\" d=\"M146.366 1397.32 L151.251 1397.32 L151.251 1403.2 L146.366 1403.2 L146.366 1397.32 Z\" fill=\"#000000\" fill-rule=\"evenodd\" fill-opacity=\"1\" /><path clip-path=\"url(#clip540)\" d=\"M171.436 1371.72 Q167.825 1371.72 165.996 1375.29 Q164.19 1378.83 164.19 1385.96 Q164.19 1393.06 165.996 1396.63 Q167.825 1400.17 171.436 1400.17 Q175.07 1400.17 176.876 1396.63 Q178.704 1393.06 178.704 1385.96 Q178.704 1378.83 176.876 1375.29 Q175.07 1371.72 171.436 1371.72 M171.436 1368.02 Q177.246 1368.02 180.301 1372.63 Q183.38 1377.21 183.38 1385.96 Q183.38 1394.69 180.301 1399.29 Q177.246 1403.88 171.436 1403.88 Q165.626 1403.88 162.547 1399.29 Q159.491 1394.69 159.491 1385.96 Q159.491 1377.21 162.547 1372.63 Q165.626 1368.02 171.436 1368.02 Z\" fill=\"#000000\" fill-rule=\"evenodd\" fill-opacity=\"1\" /><path clip-path=\"url(#clip540)\" d=\"M201.598 1371.72 Q197.987 1371.72 196.158 1375.29 Q194.352 1378.83 194.352 1385.96 Q194.352 1393.06 196.158 1396.63 Q197.987 1400.17 201.598 1400.17 Q205.232 1400.17 207.037 1396.63 Q208.866 1393.06 208.866 1385.96 Q208.866 1378.83 207.037 1375.29 Q205.232 1371.72 201.598 1371.72 M201.598 1368.02 Q207.408 1368.02 210.463 1372.63 Q213.542 1377.21 213.542 1385.96 Q213.542 1394.69 210.463 1399.29 Q207.408 1403.88 201.598 1403.88 Q195.787 1403.88 192.709 1399.29 Q189.653 1394.69 189.653 1385.96 Q189.653 1377.21 192.709 1372.63 Q195.787 1368.02 201.598 1368.02 Z\" fill=\"#000000\" fill-rule=\"evenodd\" fill-opacity=\"1\" /><path clip-path=\"url(#clip540)\" d=\"M127.2 1045.19 Q123.589 1045.19 121.76 1048.76 Q119.955 1052.3 119.955 1059.43 Q119.955 1066.53 121.76 1070.1 Q123.589 1073.64 127.2 1073.64 Q130.834 1073.64 132.64 1070.1 Q134.468 1066.53 134.468 1059.43 Q134.468 1052.3 132.64 1048.76 Q130.834 1045.19 127.2 1045.19 M127.2 1041.49 Q133.01 1041.49 136.066 1046.09 Q139.144 1050.68 139.144 1059.43 Q139.144 1068.15 136.066 1072.76 Q133.01 1077.34 127.2 1077.34 Q121.39 1077.34 118.311 1072.76 Q115.256 1068.15 115.256 1059.43 Q115.256 1050.68 118.311 1046.09 Q121.39 1041.49 127.2 1041.49 Z\" fill=\"#000000\" fill-rule=\"evenodd\" fill-opacity=\"1\" /><path clip-path=\"url(#clip540)\" d=\"M147.362 1070.79 L152.246 1070.79 L152.246 1076.67 L147.362 1076.67 L147.362 1070.79 Z\" fill=\"#000000\" fill-rule=\"evenodd\" fill-opacity=\"1\" /><path clip-path=\"url(#clip540)\" d=\"M166.459 1072.74 L182.778 1072.74 L182.778 1076.67 L160.834 1076.67 L160.834 1072.74 Q163.496 1069.98 168.079 1065.35 Q172.686 1060.7 173.866 1059.36 Q176.112 1056.83 176.991 1055.1 Q177.894 1053.34 177.894 1051.65 Q177.894 1048.89 175.95 1047.16 Q174.028 1045.42 170.927 1045.42 Q168.727 1045.42 166.274 1046.19 Q163.843 1046.95 161.065 1048.5 L161.065 1043.78 Q163.89 1042.64 166.343 1042.07 Q168.797 1041.49 170.834 1041.49 Q176.204 1041.49 179.399 1044.17 Q182.593 1046.86 182.593 1051.35 Q182.593 1053.48 181.783 1055.4 Q180.996 1057.3 178.889 1059.89 Q178.311 1060.56 175.209 1063.78 Q172.107 1066.97 166.459 1072.74 Z\" fill=\"#000000\" fill-rule=\"evenodd\" fill-opacity=\"1\" /><path clip-path=\"url(#clip540)\" d=\"M192.639 1042.11 L210.996 1042.11 L210.996 1046.05 L196.922 1046.05 L196.922 1054.52 Q197.94 1054.17 198.959 1054.01 Q199.977 1053.83 200.996 1053.83 Q206.783 1053.83 210.162 1057 Q213.542 1060.17 213.542 1065.58 Q213.542 1071.16 210.07 1074.26 Q206.598 1077.34 200.278 1077.34 Q198.102 1077.34 195.834 1076.97 Q193.588 1076.6 191.181 1075.86 L191.181 1071.16 Q193.264 1072.3 195.487 1072.85 Q197.709 1073.41 200.186 1073.41 Q204.19 1073.41 206.528 1071.3 Q208.866 1069.2 208.866 1065.58 Q208.866 1061.97 206.528 1059.87 Q204.19 1057.76 200.186 1057.76 Q198.311 1057.76 196.436 1058.18 Q194.584 1058.59 192.639 1059.47 L192.639 1042.11 Z\" fill=\"#000000\" fill-rule=\"evenodd\" fill-opacity=\"1\" /><path clip-path=\"url(#clip540)\" d=\"M126.205 718.659 Q122.593 718.659 120.765 722.224 Q118.959 725.766 118.959 732.895 Q118.959 740.002 120.765 743.567 Q122.593 747.108 126.205 747.108 Q129.839 747.108 131.644 743.567 Q133.473 740.002 133.473 732.895 Q133.473 725.766 131.644 722.224 Q129.839 718.659 126.205 718.659 M126.205 714.956 Q132.015 714.956 135.07 719.562 Q138.149 724.145 138.149 732.895 Q138.149 741.622 135.07 746.229 Q132.015 750.812 126.205 750.812 Q120.394 750.812 117.316 746.229 Q114.26 741.622 114.26 732.895 Q114.26 724.145 117.316 719.562 Q120.394 714.956 126.205 714.956 Z\" fill=\"#000000\" fill-rule=\"evenodd\" fill-opacity=\"1\" /><path clip-path=\"url(#clip540)\" d=\"M146.366 744.261 L151.251 744.261 L151.251 750.141 L146.366 750.141 L146.366 744.261 Z\" fill=\"#000000\" fill-rule=\"evenodd\" fill-opacity=\"1\" /><path clip-path=\"url(#clip540)\" d=\"M161.482 715.581 L179.839 715.581 L179.839 719.516 L165.765 719.516 L165.765 727.988 Q166.783 727.641 167.802 727.479 Q168.82 727.294 169.839 727.294 Q175.626 727.294 179.005 730.465 Q182.385 733.636 182.385 739.053 Q182.385 744.631 178.913 747.733 Q175.44 750.812 169.121 750.812 Q166.945 750.812 164.677 750.442 Q162.431 750.071 160.024 749.331 L160.024 744.631 Q162.107 745.766 164.329 746.321 Q166.552 746.877 169.028 746.877 Q173.033 746.877 175.371 744.77 Q177.709 742.664 177.709 739.053 Q177.709 735.442 175.371 733.335 Q173.033 731.229 169.028 731.229 Q167.153 731.229 165.278 731.645 Q163.427 732.062 161.482 732.942 L161.482 715.581 Z\" fill=\"#000000\" fill-rule=\"evenodd\" fill-opacity=\"1\" /><path clip-path=\"url(#clip540)\" d=\"M201.598 718.659 Q197.987 718.659 196.158 722.224 Q194.352 725.766 194.352 732.895 Q194.352 740.002 196.158 743.567 Q197.987 747.108 201.598 747.108 Q205.232 747.108 207.037 743.567 Q208.866 740.002 208.866 732.895 Q208.866 725.766 207.037 722.224 Q205.232 718.659 201.598 718.659 M201.598 714.956 Q207.408 714.956 210.463 719.562 Q213.542 724.145 213.542 732.895 Q213.542 741.622 210.463 746.229 Q207.408 750.812 201.598 750.812 Q195.787 750.812 192.709 746.229 Q189.653 741.622 189.653 732.895 Q189.653 724.145 192.709 719.562 Q195.787 714.956 201.598 714.956 Z\" fill=\"#000000\" fill-rule=\"evenodd\" fill-opacity=\"1\" /><path clip-path=\"url(#clip540)\" d=\"M127.2 392.128 Q123.589 392.128 121.76 395.693 Q119.955 399.234 119.955 406.364 Q119.955 413.47 121.76 417.035 Q123.589 420.577 127.2 420.577 Q130.834 420.577 132.64 417.035 Q134.468 413.47 134.468 406.364 Q134.468 399.234 132.64 395.693 Q130.834 392.128 127.2 392.128 M127.2 388.424 Q133.01 388.424 136.066 393.031 Q139.144 397.614 139.144 406.364 Q139.144 415.091 136.066 419.697 Q133.01 424.28 127.2 424.28 Q121.39 424.28 118.311 419.697 Q115.256 415.091 115.256 406.364 Q115.256 397.614 118.311 393.031 Q121.39 388.424 127.2 388.424 Z\" fill=\"#000000\" fill-rule=\"evenodd\" fill-opacity=\"1\" /><path clip-path=\"url(#clip540)\" d=\"M147.362 417.73 L152.246 417.73 L152.246 423.609 L147.362 423.609 L147.362 417.73 Z\" fill=\"#000000\" fill-rule=\"evenodd\" fill-opacity=\"1\" /><path clip-path=\"url(#clip540)\" d=\"M161.251 389.049 L183.473 389.049 L183.473 391.04 L170.927 423.609 L166.042 423.609 L177.848 392.984 L161.251 392.984 L161.251 389.049 Z\" fill=\"#000000\" fill-rule=\"evenodd\" fill-opacity=\"1\" /><path clip-path=\"url(#clip540)\" d=\"M192.639 389.049 L210.996 389.049 L210.996 392.984 L196.922 392.984 L196.922 401.457 Q197.94 401.109 198.959 400.947 Q199.977 400.762 200.996 400.762 Q206.783 400.762 210.162 403.933 Q213.542 407.105 213.542 412.521 Q213.542 418.1 210.07 421.202 Q206.598 424.28 200.278 424.28 Q198.102 424.28 195.834 423.91 Q193.588 423.54 191.181 422.799 L191.181 418.1 Q193.264 419.234 195.487 419.79 Q197.709 420.345 200.186 420.345 Q204.19 420.345 206.528 418.239 Q208.866 416.132 208.866 412.521 Q208.866 408.91 206.528 406.804 Q204.19 404.697 200.186 404.697 Q198.311 404.697 196.436 405.114 Q194.584 405.531 192.639 406.41 L192.639 389.049 Z\" fill=\"#000000\" fill-rule=\"evenodd\" fill-opacity=\"1\" /><path clip-path=\"url(#clip540)\" d=\"M117.015 93.1425 L124.654 93.1425 L124.654 66.7769 L116.343 68.4436 L116.343 64.1843 L124.607 62.5177 L129.283 62.5177 L129.283 93.1425 L136.922 93.1425 L136.922 97.0777 L117.015 97.0777 L117.015 93.1425 Z\" fill=\"#000000\" fill-rule=\"evenodd\" fill-opacity=\"1\" /><path clip-path=\"url(#clip540)\" d=\"M146.366 91.1981 L151.251 91.1981 L151.251 97.0777 L146.366 97.0777 L146.366 91.1981 Z\" fill=\"#000000\" fill-rule=\"evenodd\" fill-opacity=\"1\" /><path clip-path=\"url(#clip540)\" d=\"M171.436 65.5964 Q167.825 65.5964 165.996 69.1612 Q164.19 72.7028 164.19 79.8324 Q164.19 86.9388 165.996 90.5036 Q167.825 94.0453 171.436 94.0453 Q175.07 94.0453 176.876 90.5036 Q178.704 86.9388 178.704 79.8324 Q178.704 72.7028 176.876 69.1612 Q175.07 65.5964 171.436 65.5964 M171.436 61.8927 Q177.246 61.8927 180.301 66.4991 Q183.38 71.0825 183.38 79.8324 Q183.38 88.5592 180.301 93.1657 Q177.246 97.749 171.436 97.749 Q165.626 97.749 162.547 93.1657 Q159.491 88.5592 159.491 79.8324 Q159.491 71.0825 162.547 66.4991 Q165.626 61.8927 171.436 61.8927 Z\" fill=\"#000000\" fill-rule=\"evenodd\" fill-opacity=\"1\" /><path clip-path=\"url(#clip540)\" d=\"M201.598 65.5964 Q197.987 65.5964 196.158 69.1612 Q194.352 72.7028 194.352 79.8324 Q194.352 86.9388 196.158 90.5036 Q197.987 94.0453 201.598 94.0453 Q205.232 94.0453 207.037 90.5036 Q208.866 86.9388 208.866 79.8324 Q208.866 72.7028 207.037 69.1612 Q205.232 65.5964 201.598 65.5964 M201.598 61.8927 Q207.408 61.8927 210.463 66.4991 Q213.542 71.0825 213.542 79.8324 Q213.542 88.5592 210.463 93.1657 Q207.408 97.749 201.598 97.749 Q195.787 97.749 192.709 93.1657 Q189.653 88.5592 189.653 79.8324 Q189.653 71.0825 192.709 66.4991 Q195.787 61.8927 201.598 61.8927 Z\" fill=\"#000000\" fill-rule=\"evenodd\" fill-opacity=\"1\" /><path clip-path=\"url(#clip540)\" d=\"M58.657 884.138 L77.5631 884.138 L77.5631 890.026 L28.3562 890.026 L28.3562 884.138 L33.7671 884.138 Q30.5842 882.292 29.0564 879.491 Q27.4968 876.658 27.4968 872.743 Q27.4968 866.25 32.6531 862.208 Q37.8093 858.134 46.212 858.134 Q54.6147 858.134 59.771 862.208 Q64.9272 866.25 64.9272 872.743 Q64.9272 876.658 63.3994 879.491 Q61.8398 882.292 58.657 884.138 M46.212 864.213 Q39.7508 864.213 36.0905 866.887 Q32.3984 869.528 32.3984 874.175 Q32.3984 878.822 36.0905 881.496 Q39.7508 884.138 46.212 884.138 Q52.6732 884.138 56.3653 881.496 Q60.0256 878.822 60.0256 874.175 Q60.0256 869.528 56.3653 866.887 Q52.6732 864.213 46.212 864.213 Z\" fill=\"#000000\" fill-rule=\"evenodd\" fill-opacity=\"1\" /><path clip-path=\"url(#clip540)\" d=\"M32.4621 834.612 Q32.4621 839.323 36.1542 842.06 Q39.8145 844.798 46.212 844.798 Q52.6095 844.798 56.3017 842.092 Q59.9619 839.355 59.9619 834.612 Q59.9619 829.934 56.2698 827.196 Q52.5777 824.459 46.212 824.459 Q39.8781 824.459 36.186 827.196 Q32.4621 829.934 32.4621 834.612 M27.4968 834.612 Q27.4968 826.974 32.4621 822.613 Q37.4273 818.253 46.212 818.253 Q54.9649 818.253 59.9619 822.613 Q64.9272 826.974 64.9272 834.612 Q64.9272 842.283 59.9619 846.644 Q54.9649 850.972 46.212 850.972 Q37.4273 850.972 32.4621 846.644 Q27.4968 842.283 27.4968 834.612 Z\" fill=\"#000000\" fill-rule=\"evenodd\" fill-opacity=\"1\" /><path clip-path=\"url(#clip540)\" d=\"M29.4065 785.819 L34.9447 785.819 Q33.6716 788.302 33.035 790.976 Q32.3984 793.649 32.3984 796.514 Q32.3984 800.874 33.7352 803.07 Q35.072 805.235 37.7456 805.235 Q39.7826 805.235 40.9603 803.675 Q42.1061 802.116 43.1565 797.405 L43.6021 795.4 Q44.9389 789.161 47.3897 786.551 Q49.8086 783.91 54.1691 783.91 Q59.1344 783.91 62.0308 787.856 Q64.9272 791.771 64.9272 798.646 Q64.9272 801.511 64.3543 804.63 Q63.8132 807.717 62.6992 811.155 L56.6518 811.155 Q58.3387 807.908 59.198 804.757 Q60.0256 801.606 60.0256 798.519 Q60.0256 794.381 58.6251 792.153 Q57.1929 789.925 54.6147 789.925 Q52.2276 789.925 50.9545 791.548 Q49.6813 793.14 48.5037 798.583 L48.0262 800.62 Q46.8804 806.062 44.5251 808.481 Q42.138 810.9 38.0002 810.9 Q32.9713 810.9 30.2341 807.335 Q27.4968 803.771 27.4968 797.214 Q27.4968 793.967 27.9743 791.103 Q28.4517 788.238 29.4065 785.819 Z\" fill=\"#000000\" fill-rule=\"evenodd\" fill-opacity=\"1\" /><path clip-path=\"url(#clip540)\" d=\"M28.3562 774.584 L28.3562 768.727 L64.0042 768.727 L64.0042 774.584 L28.3562 774.584 M14.479 774.584 L14.479 768.727 L21.895 768.727 L21.895 774.584 L14.479 774.584 Z\" fill=\"#000000\" fill-rule=\"evenodd\" fill-opacity=\"1\" /><path clip-path=\"url(#clip540)\" d=\"M18.2347 750.681 L28.3562 750.681 L28.3562 738.618 L32.9077 738.618 L32.9077 750.681 L52.2594 750.681 Q56.6199 750.681 57.8613 749.503 Q59.1026 748.293 59.1026 744.633 L59.1026 738.618 L64.0042 738.618 L64.0042 744.633 Q64.0042 751.413 61.4897 753.991 Q58.9434 756.569 52.2594 756.569 L32.9077 756.569 L32.9077 760.866 L28.3562 760.866 L28.3562 756.569 L18.2347 756.569 L18.2347 750.681 Z\" fill=\"#000000\" fill-rule=\"evenodd\" fill-opacity=\"1\" /><path clip-path=\"url(#clip540)\" d=\"M28.3562 730.915 L28.3562 725.059 L64.0042 725.059 L64.0042 730.915 L28.3562 730.915 M14.479 730.915 L14.479 725.059 L21.895 725.059 L21.895 730.915 L14.479 730.915 Z\" fill=\"#000000\" fill-rule=\"evenodd\" fill-opacity=\"1\" /><path clip-path=\"url(#clip540)\" d=\"M32.4621 698.991 Q32.4621 703.702 36.1542 706.439 Q39.8145 709.176 46.212 709.176 Q52.6095 709.176 56.3017 706.471 Q59.9619 703.734 59.9619 698.991 Q59.9619 694.312 56.2698 691.575 Q52.5777 688.838 46.212 688.838 Q39.8781 688.838 36.186 691.575 Q32.4621 694.312 32.4621 698.991 M27.4968 698.991 Q27.4968 691.352 32.4621 686.992 Q37.4273 682.631 46.212 682.631 Q54.9649 682.631 59.9619 686.992 Q64.9272 691.352 64.9272 698.991 Q64.9272 706.662 59.9619 711.022 Q54.9649 715.351 46.212 715.351 Q37.4273 715.351 32.4621 711.022 Q27.4968 706.662 27.4968 698.991 Z\" fill=\"#000000\" fill-rule=\"evenodd\" fill-opacity=\"1\" /><path clip-path=\"url(#clip540)\" d=\"M42.4881 643.291 L64.0042 643.291 L64.0042 649.148 L42.679 649.148 Q37.6183 649.148 35.1038 651.121 Q32.5894 653.094 32.5894 657.041 Q32.5894 661.784 35.6131 664.521 Q38.6368 667.258 43.8567 667.258 L64.0042 667.258 L64.0042 673.146 L28.3562 673.146 L28.3562 667.258 L33.8944 667.258 Q30.6797 665.157 29.0883 662.325 Q27.4968 659.46 27.4968 655.736 Q27.4968 649.593 31.3163 646.442 Q35.1038 643.291 42.4881 643.291 Z\" fill=\"#000000\" fill-rule=\"evenodd\" fill-opacity=\"1\" /><path clip-path=\"url(#clip540)\" d=\"M67.3143 596.058 Q73.68 598.54 75.6216 600.896 Q77.5631 603.251 77.5631 607.198 L77.5631 611.876 L72.6615 611.876 L72.6615 608.439 Q72.6615 606.02 71.5157 604.683 Q70.3699 603.346 66.1048 601.723 L63.4312 600.673 L28.3562 615.091 L28.3562 608.885 L56.238 597.745 L28.3562 586.605 L28.3562 580.398 L67.3143 596.058 Z\" fill=\"#000000\" fill-rule=\"evenodd\" fill-opacity=\"1\" /><circle clip-path=\"url(#clip542)\" cx=\"2122.39\" cy=\"1215.8\" r=\"7\" fill=\"#000000\" fill-rule=\"evenodd\" fill-opacity=\"1\" stroke=\"none\"/>\n",
       "<circle clip-path=\"url(#clip542)\" cx=\"1189.44\" cy=\"809.825\" r=\"7\" fill=\"#000000\" fill-rule=\"evenodd\" fill-opacity=\"1\" stroke=\"none\"/>\n",
       "<circle clip-path=\"url(#clip542)\" cx=\"2003.01\" cy=\"1298.45\" r=\"7\" fill=\"#000000\" fill-rule=\"evenodd\" fill-opacity=\"1\" stroke=\"none\"/>\n",
       "<circle clip-path=\"url(#clip542)\" cx=\"1803.13\" cy=\"434.323\" r=\"7\" fill=\"#000000\" fill-rule=\"evenodd\" fill-opacity=\"1\" stroke=\"none\"/>\n",
       "<circle clip-path=\"url(#clip542)\" cx=\"2159.79\" cy=\"732.357\" r=\"7\" fill=\"#000000\" fill-rule=\"evenodd\" fill-opacity=\"1\" stroke=\"none\"/>\n",
       "<circle clip-path=\"url(#clip542)\" cx=\"1406.85\" cy=\"668.183\" r=\"7\" fill=\"#000000\" fill-rule=\"evenodd\" fill-opacity=\"1\" stroke=\"none\"/>\n",
       "<circle clip-path=\"url(#clip542)\" cx=\"725.116\" cy=\"1247.83\" r=\"7\" fill=\"#000000\" fill-rule=\"evenodd\" fill-opacity=\"1\" stroke=\"none\"/>\n",
       "<circle clip-path=\"url(#clip542)\" cx=\"1834.29\" cy=\"678.125\" r=\"7\" fill=\"#000000\" fill-rule=\"evenodd\" fill-opacity=\"1\" stroke=\"none\"/>\n",
       "<circle clip-path=\"url(#clip542)\" cx=\"1439.39\" cy=\"1175.46\" r=\"7\" fill=\"#000000\" fill-rule=\"evenodd\" fill-opacity=\"1\" stroke=\"none\"/>\n",
       "<circle clip-path=\"url(#clip542)\" cx=\"682.625\" cy=\"1176.38\" r=\"7\" fill=\"#000000\" fill-rule=\"evenodd\" fill-opacity=\"1\" stroke=\"none\"/>\n",
       "<circle clip-path=\"url(#clip542)\" cx=\"794.67\" cy=\"904.116\" r=\"7\" fill=\"#000000\" fill-rule=\"evenodd\" fill-opacity=\"1\" stroke=\"none\"/>\n",
       "<circle clip-path=\"url(#clip542)\" cx=\"813.116\" cy=\"121.41\" r=\"7\" fill=\"#000000\" fill-rule=\"evenodd\" fill-opacity=\"1\" stroke=\"none\"/>\n",
       "<circle clip-path=\"url(#clip542)\" cx=\"1818.21\" cy=\"231.829\" r=\"7\" fill=\"#000000\" fill-rule=\"evenodd\" fill-opacity=\"1\" stroke=\"none\"/>\n",
       "<circle clip-path=\"url(#clip542)\" cx=\"659.649\" cy=\"368.191\" r=\"7\" fill=\"#000000\" fill-rule=\"evenodd\" fill-opacity=\"1\" stroke=\"none\"/>\n",
       "<circle clip-path=\"url(#clip542)\" cx=\"1619.9\" cy=\"684.347\" r=\"7\" fill=\"#000000\" fill-rule=\"evenodd\" fill-opacity=\"1\" stroke=\"none\"/>\n",
       "<circle clip-path=\"url(#clip542)\" cx=\"2104.32\" cy=\"1272.3\" r=\"7\" fill=\"#000000\" fill-rule=\"evenodd\" fill-opacity=\"1\" stroke=\"none\"/>\n",
       "<circle clip-path=\"url(#clip542)\" cx=\"1569.33\" cy=\"506.151\" r=\"7\" fill=\"#000000\" fill-rule=\"evenodd\" fill-opacity=\"1\" stroke=\"none\"/>\n",
       "<circle clip-path=\"url(#clip542)\" cx=\"403.538\" cy=\"1245.86\" r=\"7\" fill=\"#000000\" fill-rule=\"evenodd\" fill-opacity=\"1\" stroke=\"none\"/>\n",
       "<circle clip-path=\"url(#clip542)\" cx=\"1631.48\" cy=\"494.884\" r=\"7\" fill=\"#000000\" fill-rule=\"evenodd\" fill-opacity=\"1\" stroke=\"none\"/>\n",
       "<circle clip-path=\"url(#clip542)\" cx=\"2203.05\" cy=\"167.798\" r=\"7\" fill=\"#000000\" fill-rule=\"evenodd\" fill-opacity=\"1\" stroke=\"none\"/>\n",
       "<circle clip-path=\"url(#clip542)\" cx=\"562.49\" cy=\"656.52\" r=\"7\" fill=\"#000000\" fill-rule=\"evenodd\" fill-opacity=\"1\" stroke=\"none\"/>\n",
       "<circle clip-path=\"url(#clip542)\" cx=\"804.194\" cy=\"506.212\" r=\"7\" fill=\"#000000\" fill-rule=\"evenodd\" fill-opacity=\"1\" stroke=\"none\"/>\n",
       "<circle clip-path=\"url(#clip542)\" cx=\"1079.63\" cy=\"143.563\" r=\"7\" fill=\"#000000\" fill-rule=\"evenodd\" fill-opacity=\"1\" stroke=\"none\"/>\n",
       "<circle clip-path=\"url(#clip542)\" cx=\"1307.38\" cy=\"259.406\" r=\"7\" fill=\"#000000\" fill-rule=\"evenodd\" fill-opacity=\"1\" stroke=\"none\"/>\n",
       "<circle clip-path=\"url(#clip542)\" cx=\"2129.29\" cy=\"353.378\" r=\"7\" fill=\"#000000\" fill-rule=\"evenodd\" fill-opacity=\"1\" stroke=\"none\"/>\n",
       "<circle clip-path=\"url(#clip542)\" cx=\"1046.21\" cy=\"284.5\" r=\"7\" fill=\"#000000\" fill-rule=\"evenodd\" fill-opacity=\"1\" stroke=\"none\"/>\n",
       "<circle clip-path=\"url(#clip542)\" cx=\"1032.35\" cy=\"602.157\" r=\"7\" fill=\"#000000\" fill-rule=\"evenodd\" fill-opacity=\"1\" stroke=\"none\"/>\n",
       "<circle clip-path=\"url(#clip542)\" cx=\"1194.5\" cy=\"177.003\" r=\"7\" fill=\"#000000\" fill-rule=\"evenodd\" fill-opacity=\"1\" stroke=\"none\"/>\n",
       "<circle clip-path=\"url(#clip542)\" cx=\"1065.07\" cy=\"348.566\" r=\"7\" fill=\"#000000\" fill-rule=\"evenodd\" fill-opacity=\"1\" stroke=\"none\"/>\n",
       "<circle clip-path=\"url(#clip542)\" cx=\"1813.94\" cy=\"862.549\" r=\"7\" fill=\"#000000\" fill-rule=\"evenodd\" fill-opacity=\"1\" stroke=\"none\"/>\n",
       "<circle clip-path=\"url(#clip542)\" cx=\"1933.78\" cy=\"513.847\" r=\"7\" fill=\"#000000\" fill-rule=\"evenodd\" fill-opacity=\"1\" stroke=\"none\"/>\n",
       "<circle clip-path=\"url(#clip542)\" cx=\"590.299\" cy=\"444.44\" r=\"7\" fill=\"#000000\" fill-rule=\"evenodd\" fill-opacity=\"1\" stroke=\"none\"/>\n",
       "<circle clip-path=\"url(#clip542)\" cx=\"1677.34\" cy=\"308.247\" r=\"7\" fill=\"#000000\" fill-rule=\"evenodd\" fill-opacity=\"1\" stroke=\"none\"/>\n",
       "<circle clip-path=\"url(#clip542)\" cx=\"1353.95\" cy=\"86.1857\" r=\"7\" fill=\"#000000\" fill-rule=\"evenodd\" fill-opacity=\"1\" stroke=\"none\"/>\n",
       "<circle clip-path=\"url(#clip542)\" cx=\"509.653\" cy=\"1079.18\" r=\"7\" fill=\"#000000\" fill-rule=\"evenodd\" fill-opacity=\"1\" stroke=\"none\"/>\n",
       "<circle clip-path=\"url(#clip542)\" cx=\"1544.73\" cy=\"1277.89\" r=\"7\" fill=\"#000000\" fill-rule=\"evenodd\" fill-opacity=\"1\" stroke=\"none\"/>\n",
       "<circle clip-path=\"url(#clip542)\" cx=\"1342.76\" cy=\"321.866\" r=\"7\" fill=\"#000000\" fill-rule=\"evenodd\" fill-opacity=\"1\" stroke=\"none\"/>\n",
       "<circle clip-path=\"url(#clip542)\" cx=\"1319.28\" cy=\"1333.91\" r=\"7\" fill=\"#000000\" fill-rule=\"evenodd\" fill-opacity=\"1\" stroke=\"none\"/>\n",
       "<circle clip-path=\"url(#clip542)\" cx=\"958.752\" cy=\"1171.25\" r=\"7\" fill=\"#000000\" fill-rule=\"evenodd\" fill-opacity=\"1\" stroke=\"none\"/>\n",
       "<circle clip-path=\"url(#clip542)\" cx=\"1195.52\" cy=\"172.759\" r=\"7\" fill=\"#000000\" fill-rule=\"evenodd\" fill-opacity=\"1\" stroke=\"none\"/>\n",
       "<circle clip-path=\"url(#clip542)\" cx=\"417.375\" cy=\"1139.91\" r=\"7\" fill=\"#000000\" fill-rule=\"evenodd\" fill-opacity=\"1\" stroke=\"none\"/>\n",
       "<circle clip-path=\"url(#clip542)\" cx=\"2285.4\" cy=\"409.3\" r=\"7\" fill=\"#000000\" fill-rule=\"evenodd\" fill-opacity=\"1\" stroke=\"none\"/>\n",
       "<circle clip-path=\"url(#clip542)\" cx=\"1701.99\" cy=\"493.068\" r=\"7\" fill=\"#000000\" fill-rule=\"evenodd\" fill-opacity=\"1\" stroke=\"none\"/>\n",
       "<circle clip-path=\"url(#clip542)\" cx=\"2195.52\" cy=\"1374.95\" r=\"7\" fill=\"#000000\" fill-rule=\"evenodd\" fill-opacity=\"1\" stroke=\"none\"/>\n",
       "<circle clip-path=\"url(#clip542)\" cx=\"2293.23\" cy=\"197.933\" r=\"7\" fill=\"#000000\" fill-rule=\"evenodd\" fill-opacity=\"1\" stroke=\"none\"/>\n",
       "<circle clip-path=\"url(#clip542)\" cx=\"1756.18\" cy=\"236.711\" r=\"7\" fill=\"#000000\" fill-rule=\"evenodd\" fill-opacity=\"1\" stroke=\"none\"/>\n",
       "<circle clip-path=\"url(#clip542)\" cx=\"1080.01\" cy=\"1341.16\" r=\"7\" fill=\"#000000\" fill-rule=\"evenodd\" fill-opacity=\"1\" stroke=\"none\"/>\n",
       "<circle clip-path=\"url(#clip542)\" cx=\"1828.89\" cy=\"343.233\" r=\"7\" fill=\"#000000\" fill-rule=\"evenodd\" fill-opacity=\"1\" stroke=\"none\"/>\n",
       "<circle clip-path=\"url(#clip542)\" cx=\"1247.88\" cy=\"885.607\" r=\"7\" fill=\"#000000\" fill-rule=\"evenodd\" fill-opacity=\"1\" stroke=\"none\"/>\n",
       "<circle clip-path=\"url(#clip542)\" cx=\"2264.93\" cy=\"1346.32\" r=\"7\" fill=\"#000000\" fill-rule=\"evenodd\" fill-opacity=\"1\" stroke=\"none\"/>\n",
       "<circle clip-path=\"url(#clip542)\" cx=\"1124.69\" cy=\"227.526\" r=\"7\" fill=\"#000000\" fill-rule=\"evenodd\" fill-opacity=\"1\" stroke=\"none\"/>\n",
       "<circle clip-path=\"url(#clip542)\" cx=\"1823.82\" cy=\"1017.03\" r=\"7\" fill=\"#000000\" fill-rule=\"evenodd\" fill-opacity=\"1\" stroke=\"none\"/>\n",
       "<circle clip-path=\"url(#clip542)\" cx=\"649.954\" cy=\"1336.68\" r=\"7\" fill=\"#000000\" fill-rule=\"evenodd\" fill-opacity=\"1\" stroke=\"none\"/>\n",
       "<circle clip-path=\"url(#clip542)\" cx=\"1710.6\" cy=\"1194.26\" r=\"7\" fill=\"#000000\" fill-rule=\"evenodd\" fill-opacity=\"1\" stroke=\"none\"/>\n",
       "<circle clip-path=\"url(#clip542)\" cx=\"2020.18\" cy=\"609.922\" r=\"7\" fill=\"#000000\" fill-rule=\"evenodd\" fill-opacity=\"1\" stroke=\"none\"/>\n",
       "<circle clip-path=\"url(#clip542)\" cx=\"1944.45\" cy=\"914.679\" r=\"7\" fill=\"#000000\" fill-rule=\"evenodd\" fill-opacity=\"1\" stroke=\"none\"/>\n",
       "<circle clip-path=\"url(#clip542)\" cx=\"2246.06\" cy=\"513.957\" r=\"7\" fill=\"#000000\" fill-rule=\"evenodd\" fill-opacity=\"1\" stroke=\"none\"/>\n",
       "<circle clip-path=\"url(#clip542)\" cx=\"348.852\" cy=\"843.301\" r=\"7\" fill=\"#000000\" fill-rule=\"evenodd\" fill-opacity=\"1\" stroke=\"none\"/>\n",
       "<circle clip-path=\"url(#clip542)\" cx=\"549.964\" cy=\"694.005\" r=\"7\" fill=\"#000000\" fill-rule=\"evenodd\" fill-opacity=\"1\" stroke=\"none\"/>\n",
       "<circle clip-path=\"url(#clip542)\" cx=\"1560.26\" cy=\"846.096\" r=\"7\" fill=\"#000000\" fill-rule=\"evenodd\" fill-opacity=\"1\" stroke=\"none\"/>\n",
       "<circle clip-path=\"url(#clip542)\" cx=\"1149.04\" cy=\"416.363\" r=\"7\" fill=\"#000000\" fill-rule=\"evenodd\" fill-opacity=\"1\" stroke=\"none\"/>\n",
       "<circle clip-path=\"url(#clip542)\" cx=\"1721.12\" cy=\"689.741\" r=\"7\" fill=\"#000000\" fill-rule=\"evenodd\" fill-opacity=\"1\" stroke=\"none\"/>\n",
       "<circle clip-path=\"url(#clip542)\" cx=\"2022.3\" cy=\"549.676\" r=\"7\" fill=\"#000000\" fill-rule=\"evenodd\" fill-opacity=\"1\" stroke=\"none\"/>\n",
       "<circle clip-path=\"url(#clip542)\" cx=\"337.978\" cy=\"1110.56\" r=\"7\" fill=\"#000000\" fill-rule=\"evenodd\" fill-opacity=\"1\" stroke=\"none\"/>\n",
       "<circle clip-path=\"url(#clip542)\" cx=\"1276.04\" cy=\"777.149\" r=\"7\" fill=\"#000000\" fill-rule=\"evenodd\" fill-opacity=\"1\" stroke=\"none\"/>\n",
       "<circle clip-path=\"url(#clip542)\" cx=\"1663.96\" cy=\"670.31\" r=\"7\" fill=\"#000000\" fill-rule=\"evenodd\" fill-opacity=\"1\" stroke=\"none\"/>\n",
       "<circle clip-path=\"url(#clip542)\" cx=\"1460.47\" cy=\"1071.85\" r=\"7\" fill=\"#000000\" fill-rule=\"evenodd\" fill-opacity=\"1\" stroke=\"none\"/>\n",
       "<circle clip-path=\"url(#clip542)\" cx=\"928.892\" cy=\"1320.64\" r=\"7\" fill=\"#000000\" fill-rule=\"evenodd\" fill-opacity=\"1\" stroke=\"none\"/>\n",
       "<circle clip-path=\"url(#clip542)\" cx=\"2275.58\" cy=\"1384.24\" r=\"7\" fill=\"#000000\" fill-rule=\"evenodd\" fill-opacity=\"1\" stroke=\"none\"/>\n",
       "<circle clip-path=\"url(#clip542)\" cx=\"1868.39\" cy=\"648.759\" r=\"7\" fill=\"#000000\" fill-rule=\"evenodd\" fill-opacity=\"1\" stroke=\"none\"/>\n",
       "<circle clip-path=\"url(#clip542)\" cx=\"1423.54\" cy=\"426.752\" r=\"7\" fill=\"#000000\" fill-rule=\"evenodd\" fill-opacity=\"1\" stroke=\"none\"/>\n",
       "<circle clip-path=\"url(#clip542)\" cx=\"732.697\" cy=\"920.911\" r=\"7\" fill=\"#000000\" fill-rule=\"evenodd\" fill-opacity=\"1\" stroke=\"none\"/>\n",
       "<circle clip-path=\"url(#clip542)\" cx=\"2252\" cy=\"1029.16\" r=\"7\" fill=\"#000000\" fill-rule=\"evenodd\" fill-opacity=\"1\" stroke=\"none\"/>\n",
       "<circle clip-path=\"url(#clip542)\" cx=\"464.065\" cy=\"442.613\" r=\"7\" fill=\"#000000\" fill-rule=\"evenodd\" fill-opacity=\"1\" stroke=\"none\"/>\n",
       "<circle clip-path=\"url(#clip542)\" cx=\"997.965\" cy=\"288.381\" r=\"7\" fill=\"#000000\" fill-rule=\"evenodd\" fill-opacity=\"1\" stroke=\"none\"/>\n",
       "<circle clip-path=\"url(#clip542)\" cx=\"325.382\" cy=\"331.988\" r=\"7\" fill=\"#000000\" fill-rule=\"evenodd\" fill-opacity=\"1\" stroke=\"none\"/>\n",
       "<circle clip-path=\"url(#clip542)\" cx=\"2246.73\" cy=\"499.386\" r=\"7\" fill=\"#000000\" fill-rule=\"evenodd\" fill-opacity=\"1\" stroke=\"none\"/>\n",
       "<circle clip-path=\"url(#clip542)\" cx=\"721.659\" cy=\"805.599\" r=\"7\" fill=\"#000000\" fill-rule=\"evenodd\" fill-opacity=\"1\" stroke=\"none\"/>\n",
       "<circle clip-path=\"url(#clip542)\" cx=\"1245.83\" cy=\"287.344\" r=\"7\" fill=\"#000000\" fill-rule=\"evenodd\" fill-opacity=\"1\" stroke=\"none\"/>\n",
       "<circle clip-path=\"url(#clip542)\" cx=\"1794.6\" cy=\"510.079\" r=\"7\" fill=\"#000000\" fill-rule=\"evenodd\" fill-opacity=\"1\" stroke=\"none\"/>\n",
       "<circle clip-path=\"url(#clip542)\" cx=\"977.858\" cy=\"1168.86\" r=\"7\" fill=\"#000000\" fill-rule=\"evenodd\" fill-opacity=\"1\" stroke=\"none\"/>\n",
       "<circle clip-path=\"url(#clip542)\" cx=\"1288.25\" cy=\"988.203\" r=\"7\" fill=\"#000000\" fill-rule=\"evenodd\" fill-opacity=\"1\" stroke=\"none\"/>\n",
       "<circle clip-path=\"url(#clip542)\" cx=\"426.141\" cy=\"829.939\" r=\"7\" fill=\"#000000\" fill-rule=\"evenodd\" fill-opacity=\"1\" stroke=\"none\"/>\n",
       "<circle clip-path=\"url(#clip542)\" cx=\"687.737\" cy=\"651.038\" r=\"7\" fill=\"#000000\" fill-rule=\"evenodd\" fill-opacity=\"1\" stroke=\"none\"/>\n",
       "<circle clip-path=\"url(#clip542)\" cx=\"451.017\" cy=\"556.285\" r=\"7\" fill=\"#000000\" fill-rule=\"evenodd\" fill-opacity=\"1\" stroke=\"none\"/>\n",
       "<circle clip-path=\"url(#clip542)\" cx=\"809.74\" cy=\"1304.85\" r=\"7\" fill=\"#000000\" fill-rule=\"evenodd\" fill-opacity=\"1\" stroke=\"none\"/>\n",
       "<circle clip-path=\"url(#clip542)\" cx=\"1733.18\" cy=\"1032.16\" r=\"7\" fill=\"#000000\" fill-rule=\"evenodd\" fill-opacity=\"1\" stroke=\"none\"/>\n",
       "<circle clip-path=\"url(#clip542)\" cx=\"1631.45\" cy=\"204.197\" r=\"7\" fill=\"#000000\" fill-rule=\"evenodd\" fill-opacity=\"1\" stroke=\"none\"/>\n",
       "<circle clip-path=\"url(#clip542)\" cx=\"1184.56\" cy=\"1233.43\" r=\"7\" fill=\"#000000\" fill-rule=\"evenodd\" fill-opacity=\"1\" stroke=\"none\"/>\n",
       "<circle clip-path=\"url(#clip542)\" cx=\"1693.95\" cy=\"691.201\" r=\"7\" fill=\"#000000\" fill-rule=\"evenodd\" fill-opacity=\"1\" stroke=\"none\"/>\n",
       "<circle clip-path=\"url(#clip542)\" cx=\"1164.4\" cy=\"1334.85\" r=\"7\" fill=\"#000000\" fill-rule=\"evenodd\" fill-opacity=\"1\" stroke=\"none\"/>\n",
       "<circle clip-path=\"url(#clip542)\" cx=\"460.329\" cy=\"929.7\" r=\"7\" fill=\"#000000\" fill-rule=\"evenodd\" fill-opacity=\"1\" stroke=\"none\"/>\n",
       "<circle clip-path=\"url(#clip542)\" cx=\"1307.33\" cy=\"858.567\" r=\"7\" fill=\"#000000\" fill-rule=\"evenodd\" fill-opacity=\"1\" stroke=\"none\"/>\n",
       "<circle clip-path=\"url(#clip542)\" cx=\"2282.44\" cy=\"1142.93\" r=\"7\" fill=\"#000000\" fill-rule=\"evenodd\" fill-opacity=\"1\" stroke=\"none\"/>\n",
       "<circle clip-path=\"url(#clip542)\" cx=\"1700.61\" cy=\"1162.95\" r=\"7\" fill=\"#000000\" fill-rule=\"evenodd\" fill-opacity=\"1\" stroke=\"none\"/>\n",
       "<circle clip-path=\"url(#clip542)\" cx=\"570.234\" cy=\"228.739\" r=\"7\" fill=\"#000000\" fill-rule=\"evenodd\" fill-opacity=\"1\" stroke=\"none\"/>\n",
       "<circle clip-path=\"url(#clip542)\" cx=\"1523.01\" cy=\"572.681\" r=\"7\" fill=\"#000000\" fill-rule=\"evenodd\" fill-opacity=\"1\" stroke=\"none\"/>\n",
       "<circle clip-path=\"url(#clip542)\" cx=\"309.067\" cy=\"699.047\" r=\"7\" fill=\"#000000\" fill-rule=\"evenodd\" fill-opacity=\"1\" stroke=\"none\"/>\n",
       "<circle clip-path=\"url(#clip542)\" cx=\"1077.98\" cy=\"1146.98\" r=\"7\" fill=\"#000000\" fill-rule=\"evenodd\" fill-opacity=\"1\" stroke=\"none\"/>\n",
       "<circle clip-path=\"url(#clip542)\" cx=\"2220.2\" cy=\"103.524\" r=\"7\" fill=\"#000000\" fill-rule=\"evenodd\" fill-opacity=\"1\" stroke=\"none\"/>\n",
       "<path clip-path=\"url(#clip540)\" d=\"\n",
       "M1643.84 196.789 L2282.65 196.789 L2282.65 93.1086 L1643.84 93.1086  Z\n",
       "  \" fill=\"#ffffff\" fill-rule=\"evenodd\" fill-opacity=\"1\"/>\n",
       "<polyline clip-path=\"url(#clip540)\" style=\"stroke:#000000; stroke-linecap:butt; stroke-linejoin:round; stroke-width:4; stroke-opacity:1; fill:none\" points=\"\n",
       "  1643.84,196.789 2282.65,196.789 2282.65,93.1086 1643.84,93.1086 1643.84,196.789 \n",
       "  \"/>\n",
       "<circle clip-path=\"url(#clip540)\" cx=\"1737.32\" cy=\"144.949\" r=\"23\" fill=\"#000000\" fill-rule=\"evenodd\" fill-opacity=\"1\" stroke=\"none\"/>\n",
       "<path clip-path=\"url(#clip540)\" d=\"M1845.98 140.284 Q1845.26 139.868 1844.41 139.682 Q1843.57 139.474 1842.56 139.474 Q1838.95 139.474 1837 141.835 Q1835.08 144.173 1835.08 148.571 L1835.08 162.229 L1830.8 162.229 L1830.8 136.303 L1835.08 136.303 L1835.08 140.331 Q1836.42 137.969 1838.57 136.835 Q1840.73 135.678 1843.81 135.678 Q1844.25 135.678 1844.78 135.747 Q1845.31 135.794 1845.96 135.909 L1845.98 140.284 Z\" fill=\"#000000\" fill-rule=\"evenodd\" fill-opacity=\"1\" /><path clip-path=\"url(#clip540)\" d=\"M1862.23 149.196 Q1857.07 149.196 1855.08 150.377 Q1853.09 151.557 1853.09 154.405 Q1853.09 156.673 1854.57 158.016 Q1856.07 159.335 1858.64 159.335 Q1862.19 159.335 1864.32 156.835 Q1866.47 154.312 1866.47 150.145 L1866.47 149.196 L1862.23 149.196 M1870.73 147.437 L1870.73 162.229 L1866.47 162.229 L1866.47 158.293 Q1865.01 160.655 1862.83 161.789 Q1860.66 162.9 1857.51 162.9 Q1853.53 162.9 1851.17 160.678 Q1848.83 158.432 1848.83 154.682 Q1848.83 150.307 1851.75 148.085 Q1854.69 145.863 1860.5 145.863 L1866.47 145.863 L1866.47 145.446 Q1866.47 142.507 1864.52 140.909 Q1862.6 139.289 1859.11 139.289 Q1856.88 139.289 1854.78 139.821 Q1852.67 140.354 1850.73 141.419 L1850.73 137.483 Q1853.07 136.581 1855.26 136.141 Q1857.46 135.678 1859.55 135.678 Q1865.17 135.678 1867.95 138.594 Q1870.73 141.511 1870.73 147.437 Z\" fill=\"#000000\" fill-rule=\"evenodd\" fill-opacity=\"1\" /><path clip-path=\"url(#clip540)\" d=\"M1901.05 146.581 L1901.05 162.229 L1896.79 162.229 L1896.79 146.719 Q1896.79 143.039 1895.36 141.21 Q1893.92 139.382 1891.05 139.382 Q1887.6 139.382 1885.61 141.581 Q1883.62 143.78 1883.62 147.576 L1883.62 162.229 L1879.34 162.229 L1879.34 136.303 L1883.62 136.303 L1883.62 140.331 Q1885.15 137.993 1887.21 136.835 Q1889.29 135.678 1892 135.678 Q1896.47 135.678 1898.76 138.456 Q1901.05 141.21 1901.05 146.581 Z\" fill=\"#000000\" fill-rule=\"evenodd\" fill-opacity=\"1\" /><path clip-path=\"url(#clip540)\" d=\"M1926.61 140.238 L1926.61 126.21 L1930.87 126.21 L1930.87 162.229 L1926.61 162.229 L1926.61 158.34 Q1925.26 160.655 1923.2 161.789 Q1921.17 162.9 1918.3 162.9 Q1913.6 162.9 1910.63 159.15 Q1907.69 155.4 1907.69 149.289 Q1907.69 143.178 1910.63 139.428 Q1913.6 135.678 1918.3 135.678 Q1921.17 135.678 1923.2 136.812 Q1925.26 137.923 1926.61 140.238 M1912.09 149.289 Q1912.09 153.988 1914.01 156.673 Q1915.96 159.335 1919.34 159.335 Q1922.72 159.335 1924.66 156.673 Q1926.61 153.988 1926.61 149.289 Q1926.61 144.59 1924.66 141.928 Q1922.72 139.243 1919.34 139.243 Q1915.96 139.243 1914.01 141.928 Q1912.09 144.59 1912.09 149.289 Z\" fill=\"#000000\" fill-rule=\"evenodd\" fill-opacity=\"1\" /><path clip-path=\"url(#clip540)\" d=\"M1949.69 139.289 Q1946.26 139.289 1944.27 141.974 Q1942.28 144.636 1942.28 149.289 Q1942.28 153.942 1944.25 156.627 Q1946.24 159.289 1949.69 159.289 Q1953.09 159.289 1955.08 156.604 Q1957.07 153.918 1957.07 149.289 Q1957.07 144.682 1955.08 141.997 Q1953.09 139.289 1949.69 139.289 M1949.69 135.678 Q1955.24 135.678 1958.41 139.289 Q1961.58 142.9 1961.58 149.289 Q1961.58 155.655 1958.41 159.289 Q1955.24 162.9 1949.69 162.9 Q1944.11 162.9 1940.94 159.289 Q1937.79 155.655 1937.79 149.289 Q1937.79 142.9 1940.94 139.289 Q1944.11 135.678 1949.69 135.678 Z\" fill=\"#000000\" fill-rule=\"evenodd\" fill-opacity=\"1\" /><path clip-path=\"url(#clip540)\" d=\"M1988.83 141.28 Q1990.43 138.409 1992.65 137.044 Q1994.87 135.678 1997.88 135.678 Q2001.93 135.678 2004.13 138.525 Q2006.33 141.349 2006.33 146.581 L2006.33 162.229 L2002.05 162.229 L2002.05 146.719 Q2002.05 142.993 2000.73 141.187 Q1999.41 139.382 1996.7 139.382 Q1993.39 139.382 1991.47 141.581 Q1989.55 143.78 1989.55 147.576 L1989.55 162.229 L1985.26 162.229 L1985.26 146.719 Q1985.26 142.969 1983.94 141.187 Q1982.63 139.382 1979.87 139.382 Q1976.61 139.382 1974.69 141.604 Q1972.76 143.803 1972.76 147.576 L1972.76 162.229 L1968.48 162.229 L1968.48 136.303 L1972.76 136.303 L1972.76 140.331 Q1974.22 137.946 1976.26 136.812 Q1978.3 135.678 1981.1 135.678 Q1983.92 135.678 1985.89 137.113 Q1987.88 138.548 1988.83 141.28 Z\" fill=\"#000000\" fill-rule=\"evenodd\" fill-opacity=\"1\" /><path clip-path=\"url(#clip540)\" d=\"M2029.89 126.21 L2034.15 126.21 L2034.15 162.229 L2029.89 162.229 L2029.89 126.21 Z\" fill=\"#000000\" fill-rule=\"evenodd\" fill-opacity=\"1\" /><path clip-path=\"url(#clip540)\" d=\"M2053.11 139.289 Q2049.68 139.289 2047.69 141.974 Q2045.7 144.636 2045.7 149.289 Q2045.7 153.942 2047.67 156.627 Q2049.66 159.289 2053.11 159.289 Q2056.51 159.289 2058.5 156.604 Q2060.49 153.918 2060.49 149.289 Q2060.49 144.682 2058.5 141.997 Q2056.51 139.289 2053.11 139.289 M2053.11 135.678 Q2058.67 135.678 2061.84 139.289 Q2065.01 142.9 2065.01 149.289 Q2065.01 155.655 2061.84 159.289 Q2058.67 162.9 2053.11 162.9 Q2047.53 162.9 2044.36 159.289 Q2041.21 155.655 2041.21 149.289 Q2041.21 142.9 2044.36 139.289 Q2047.53 135.678 2053.11 135.678 Z\" fill=\"#000000\" fill-rule=\"evenodd\" fill-opacity=\"1\" /><path clip-path=\"url(#clip540)\" d=\"M2090.73 137.298 L2090.73 141.28 Q2088.92 140.284 2087.09 139.798 Q2085.29 139.289 2083.43 139.289 Q2079.29 139.289 2077 141.928 Q2074.71 144.544 2074.71 149.289 Q2074.71 154.034 2077 156.673 Q2079.29 159.289 2083.43 159.289 Q2085.29 159.289 2087.09 158.803 Q2088.92 158.293 2090.73 157.298 L2090.73 161.233 Q2088.94 162.067 2087.02 162.483 Q2085.12 162.9 2082.97 162.9 Q2077.12 162.9 2073.67 159.219 Q2070.22 155.539 2070.22 149.289 Q2070.22 142.946 2073.69 139.312 Q2077.18 135.678 2083.25 135.678 Q2085.22 135.678 2087.09 136.095 Q2088.97 136.488 2090.73 137.298 Z\" fill=\"#000000\" fill-rule=\"evenodd\" fill-opacity=\"1\" /><path clip-path=\"url(#clip540)\" d=\"M2109.92 149.196 Q2104.75 149.196 2102.76 150.377 Q2100.77 151.557 2100.77 154.405 Q2100.77 156.673 2102.25 158.016 Q2103.76 159.335 2106.33 159.335 Q2109.87 159.335 2112 156.835 Q2114.15 154.312 2114.15 150.145 L2114.15 149.196 L2109.92 149.196 M2118.41 147.437 L2118.41 162.229 L2114.15 162.229 L2114.15 158.293 Q2112.69 160.655 2110.52 161.789 Q2108.34 162.9 2105.19 162.9 Q2101.21 162.9 2098.85 160.678 Q2096.51 158.432 2096.51 154.682 Q2096.51 150.307 2099.43 148.085 Q2102.37 145.863 2108.18 145.863 L2114.15 145.863 L2114.15 145.446 Q2114.15 142.507 2112.21 140.909 Q2110.29 139.289 2106.79 139.289 Q2104.57 139.289 2102.46 139.821 Q2100.36 140.354 2098.41 141.419 L2098.41 137.483 Q2100.75 136.581 2102.95 136.141 Q2105.15 135.678 2107.23 135.678 Q2112.86 135.678 2115.63 138.594 Q2118.41 141.511 2118.41 147.437 Z\" fill=\"#000000\" fill-rule=\"evenodd\" fill-opacity=\"1\" /><path clip-path=\"url(#clip540)\" d=\"M2131.4 128.942 L2131.4 136.303 L2140.17 136.303 L2140.17 139.613 L2131.4 139.613 L2131.4 153.687 Q2131.4 156.858 2132.25 157.761 Q2133.13 158.664 2135.8 158.664 L2140.17 158.664 L2140.17 162.229 L2135.8 162.229 Q2130.86 162.229 2128.99 160.4 Q2127.11 158.548 2127.11 153.687 L2127.11 139.613 L2123.99 139.613 L2123.99 136.303 L2127.11 136.303 L2127.11 128.942 L2131.4 128.942 Z\" fill=\"#000000\" fill-rule=\"evenodd\" fill-opacity=\"1\" /><path clip-path=\"url(#clip540)\" d=\"M2145.77 136.303 L2150.03 136.303 L2150.03 162.229 L2145.77 162.229 L2145.77 136.303 M2145.77 126.21 L2150.03 126.21 L2150.03 131.604 L2145.77 131.604 L2145.77 126.21 Z\" fill=\"#000000\" fill-rule=\"evenodd\" fill-opacity=\"1\" /><path clip-path=\"url(#clip540)\" d=\"M2168.99 139.289 Q2165.56 139.289 2163.57 141.974 Q2161.58 144.636 2161.58 149.289 Q2161.58 153.942 2163.55 156.627 Q2165.54 159.289 2168.99 159.289 Q2172.39 159.289 2174.38 156.604 Q2176.37 153.918 2176.37 149.289 Q2176.37 144.682 2174.38 141.997 Q2172.39 139.289 2168.99 139.289 M2168.99 135.678 Q2174.55 135.678 2177.72 139.289 Q2180.89 142.9 2180.89 149.289 Q2180.89 155.655 2177.72 159.289 Q2174.55 162.9 2168.99 162.9 Q2163.41 162.9 2160.24 159.289 Q2157.09 155.655 2157.09 149.289 Q2157.09 142.9 2160.24 139.289 Q2163.41 135.678 2168.99 135.678 Z\" fill=\"#000000\" fill-rule=\"evenodd\" fill-opacity=\"1\" /><path clip-path=\"url(#clip540)\" d=\"M2209.5 146.581 L2209.5 162.229 L2205.24 162.229 L2205.24 146.719 Q2205.24 143.039 2203.8 141.21 Q2202.37 139.382 2199.5 139.382 Q2196.05 139.382 2194.06 141.581 Q2192.07 143.78 2192.07 147.576 L2192.07 162.229 L2187.79 162.229 L2187.79 136.303 L2192.07 136.303 L2192.07 140.331 Q2193.6 137.993 2195.66 136.835 Q2197.74 135.678 2200.45 135.678 Q2204.92 135.678 2207.21 138.456 Q2209.5 141.21 2209.5 146.581 Z\" fill=\"#000000\" fill-rule=\"evenodd\" fill-opacity=\"1\" /><path clip-path=\"url(#clip540)\" d=\"M2234.52 137.067 L2234.52 141.094 Q2232.72 140.169 2230.77 139.706 Q2228.83 139.243 2226.74 139.243 Q2223.57 139.243 2221.98 140.215 Q2220.4 141.187 2220.4 143.131 Q2220.4 144.613 2221.54 145.469 Q2222.67 146.303 2226.1 147.067 L2227.55 147.391 Q2232.09 148.363 2233.99 150.145 Q2235.91 151.905 2235.91 155.076 Q2235.91 158.687 2233.04 160.793 Q2230.19 162.9 2225.19 162.9 Q2223.11 162.9 2220.84 162.483 Q2218.6 162.09 2216.1 161.28 L2216.1 156.881 Q2218.46 158.108 2220.75 158.733 Q2223.04 159.335 2225.29 159.335 Q2228.29 159.335 2229.92 158.317 Q2231.54 157.275 2231.54 155.4 Q2231.54 153.664 2230.36 152.738 Q2229.2 151.812 2225.24 150.956 L2223.76 150.608 Q2219.8 149.775 2218.04 148.062 Q2216.28 146.326 2216.28 143.317 Q2216.28 139.659 2218.87 137.669 Q2221.47 135.678 2226.23 135.678 Q2228.6 135.678 2230.68 136.025 Q2232.76 136.372 2234.52 137.067 Z\" fill=\"#000000\" fill-rule=\"evenodd\" fill-opacity=\"1\" /></svg>\n"
      ]
     },
     "metadata": {},
     "output_type": "display_data"
    }
   ],
   "source": [
    "using Plots\n",
    "\n",
    "x = rand(100)\n",
    "y = rand(100)\n",
    "plt = scatter( x, y\n",
    "    ,markersize=2\n",
    "    ,markercolor=:black\n",
    "    ,label=\"random locations\"\n",
    "    ,xlabel=\"position x\"\n",
    "    ,ylabel=\"position y\"\n",
    ")\n",
    "\n",
    "display(plt)\n",
    "savefig(plt,\"../fig/random.png\")"
   ]
  },
  {
   "cell_type": "code",
   "execution_count": null,
   "id": "bcaaac34",
   "metadata": {
    "slideshow": {
     "slide_type": "fragment"
    }
   },
   "outputs": [],
   "source": [
    "x = [ 0.1 0.1 1.1 0.1 \n",
    "      0.1 1.1 0.1 0.1 ]\n",
    "Θ = range(0.0,2.0*pi,length=101)\n",
    "\n",
    "anim = @animate for theta in Θ\n",
    "    y = R(theta) * x\n",
    "    plt=plot(x[1,:], x[2,:], marker=:circle, label=\"P\" )\n",
    "    plot!(plt, y[1,:], y[2,:], marker=:square, label=\"P\\'\")\n",
    "    plot!(plt\n",
    "        , xlim=(-1.1,1.1), ylim=(-1.1,1.1)\n",
    "        , aspect_ratio=1.0\n",
    "    )\n",
    "end\n",
    "gif(anim,\"./figs/rotate.gif\",fps=5)"
   ]
  },
  {
   "cell_type": "code",
   "execution_count": null,
   "id": "fc6f2a19",
   "metadata": {},
   "outputs": [],
   "source": []
  }
 ],
 "metadata": {
  "celltoolbar": "Slideshow",
  "kernelspec": {
   "display_name": "Julia 1.6.1",
   "language": "julia",
   "name": "julia-1.6"
  },
  "language_info": {
   "file_extension": ".jl",
   "mimetype": "application/julia",
   "name": "julia",
   "version": "1.6.2"
  }
 },
 "nbformat": 4,
 "nbformat_minor": 5
}
